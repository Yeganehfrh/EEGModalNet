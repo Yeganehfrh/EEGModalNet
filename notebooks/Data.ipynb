{
 "cells": [
  {
   "cell_type": "markdown",
   "metadata": {},
   "source": [
    "## DATA used in CCN2025 paper"
   ]
  },
  {
   "cell_type": "code",
   "execution_count": null,
   "metadata": {},
   "outputs": [],
   "source": [
    "import numpy as np\n",
    "import xarray as xr\n",
    "from src.EEGModalNet.preprocessing.preprocessing import preprocess_data\n",
    "\n",
    "channels = ['O1', 'O2', 'F1', 'F2', 'C1', 'C2', 'P1', 'P2']\n",
    "data_path = 'data/LEMON_data/eeg_eo_ec.nc5'\n",
    "xarray = xr.open_dataset(data_path, engine='h5netcdf')\n",
    "\n",
    "subjects = xarray.subject.to_numpy()\n",
    "x = xarray['eye_closed'].sel(channel=channels).to_numpy()\n",
    "\n",
    "data = preprocess_data(x, sampling_rate=128)\n",
    "\n",
    "# create a dataaraay and save\n",
    "data_path = 'data/LEMON_data/EC_8_channels_processed.nc5'\n",
    "xarray = xr.DataArray(data, dims=['subject', 'channel', 'time'])\n",
    "xarray = xarray.assign_coords(subject=subjects, channel=channels)\n",
    "\n",
    "# xarray.to_netcdf(data_path, engine='h5netcdf')"
   ]
  }
 ],
 "metadata": {
  "kernelspec": {
   "display_name": "EEGModalNet",
   "language": "python",
   "name": "python3"
  },
  "language_info": {
   "codemirror_mode": {
    "name": "ipython",
    "version": 3
   },
   "file_extension": ".py",
   "mimetype": "text/x-python",
   "name": "python",
   "nbconvert_exporter": "python",
   "pygments_lexer": "ipython3",
   "version": "3.11.9"
  }
 },
 "nbformat": 4,
 "nbformat_minor": 2
}
