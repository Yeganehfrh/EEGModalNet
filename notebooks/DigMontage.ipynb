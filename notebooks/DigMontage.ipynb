{
 "cells": [
  {
   "cell_type": "markdown",
   "metadata": {},
   "source": [
    "## Digitised Montage\n",
    "\n",
    "This notebook try different montage on the EEG data from LEMON dataset to find out which one is the best fit.'\n",
    "As a temporary solution, we average the two sets of measurement of ficudial points to make a coordiate to create a montage from digitized EEG locations. However, this approach is not yet validated. So thi notebook will find out the validity of this by visualisation montage on the 3D space."
   ]
  },
  {
   "cell_type": "code",
   "execution_count": null,
   "metadata": {},
   "outputs": [],
   "source": [
    "# imports\n",
    "import numpy as np\n",
    "import scipy.io\n",
    "import mne\n",
    "from matplotlib import pyplot as plt\n",
    "import os.path as op\n",
    "\n",
    "from src.EEGNet.preprocessing.utils import get_channel_positions, get_headpoints"
   ]
  },
  {
   "cell_type": "code",
   "execution_count": null,
   "metadata": {},
   "outputs": [],
   "source": [
    "# open EEG and headshape data\n",
    "raw = mne.io.read_raw_brainvision('data/raw/sub-032304/RSEEG/sub-010005.vhdr')\n",
    "raw.set_channel_types({'VEOG': 'eog'})\n",
    "\n",
    "# digitized points\n",
    "data_dir = 'data/EEG_Localizer_BIDS_ID/'\n",
    "positions = get_channel_positions(data_dir)\n",
    "headpoints = get_headpoints(data_dir)\n",
    "\n",
    "# subject's headshape\n",
    "sub_id = 'sub-010005'\n",
    "head1 = headpoints[sub_id]['first']\n",
    "head2 = headpoints[sub_id]['second']\n",
    "head = [(h1+h2)/2 for h1, h2 in zip(head1.values(), head2.values())]  # if we want to average of the fiducials\n",
    "pos = positions[sub_id]\n",
    "hpi = np.array(list(headpoints[sub_id]['second'].values()))\n",
    "\n",
    "# fsaverage data\n",
    "fs_dir = 'data/fsaverage'\n",
    "subjects_dir = op.dirname(fs_dir)\n",
    "\n",
    "# The files live in:\n",
    "subject = \"fsaverage\"\n",
    "trans = \"fsaverage\"  # MNE has a built-in fsaverage transformation\n",
    "src = op.join(fs_dir, \"bem\", \"fsaverage-ico-5-src.fif\")\n",
    "bem = op.join(fs_dir, \"bem\", \"fsaverage-5120-5120-5120-bem-sol.fif\")"
   ]
  },
  {
   "cell_type": "code",
   "execution_count": null,
   "metadata": {},
   "outputs": [],
   "source": [
    "# Visualisation\n",
    "pos_dir = 'data/EEG_Localizer_BIDS_ID/'\n",
    "sub_id = 'sub-010005'\n",
    "EEG = mne.io.read_raw_brainvision('data/raw/sub-032304/RSEEG/sub-010005.vhdr')\n",
    "EEG.set_channel_types({'VEOG': 'eog'})\n",
    "EEG.rename_channels({'Fp1': 'FP1',\n",
    "                     'Fp2': 'FP2'})\n",
    "\n",
    "position = get_channel_positions(pos_dir)[sub_id]\n",
    "headpoint = get_headpoints(pos_dir)[sub_id]\n",
    "head1, head2 = headpoint['first'], headpoint['second']\n",
    "head = np.array([(h1+h2)/2 for h1, h2 in zip(head1.values(), head2.values())])\n",
    "montage = mne.channels.make_dig_montage(ch_pos=position, nasion=head[0], lpa=head[1], rpa=head[2])\n",
    "# montage = mne.channels.make_dig_montage(ch_pos=position, nasion=head2['NA'], lpa=head2['LPA'], rpa=head2['RPA'])\n",
    "# montage = mne.channels.make_standard_montage('standard_1005')\n",
    "\n",
    "EEG.set_montage(montage)\n",
    "mne.viz.plot_alignment(EEG.info)"
   ]
  },
  {
   "cell_type": "code",
   "execution_count": null,
   "metadata": {},
   "outputs": [],
   "source": [
    "matfile = scipy.io.loadmat('data/EEG_Localizer_BIDS_ID/sub-010005/sub-010005.mat')\n",
    "x = matfile['HeadPoints'][0][0][0][0]\n",
    "y = matfile['HeadPoints'][0][0][0][1]\n",
    "z = matfile['HeadPoints'][0][0][0][2]\n",
    "coord = np.vstack((x, y, z)).T\n",
    "labels = matfile['HeadPoints'][0][0][1][0]\n",
    "first_set = {l[0]: i for l, i in zip(labels[:3], coord[:3])}\n",
    "second_set = {l[0]: i for l, i in zip(labels[3:], coord[3:])}"
   ]
  },
  {
   "cell_type": "markdown",
   "metadata": {},
   "source": [
    "Observations:\n",
    "1. NA: the two measurments of x coordinates are always positive.\n",
    "2. NA: the two measurments of y have always opposite signs (There is no pattern of one being positive and the other negative).\n",
    "3. NA: the two measurments of z have always opposite signs (There is no pattern of one being positive and the other negative).\n",
    "\n",
    "1. LPA: the two measurments of x coordinates are always positive."
   ]
  },
  {
   "cell_type": "code",
   "execution_count": null,
   "metadata": {},
   "outputs": [],
   "source": [
    "from mne.channels.layout import _get_ch_info, make_eeg_layout, _find_kit_layout, _find_topomap_coords\n",
    "from mne import Info\n",
    "exclude = 'bads'\n",
    "info = EEG.info\n",
    "\n",
    "lay = make_eeg_layout(info, exclude=exclude)"
   ]
  }
 ],
 "metadata": {
  "kernelspec": {
   "display_name": "eegnet",
   "language": "python",
   "name": "python3"
  },
  "language_info": {
   "name": "python",
   "version": "3.12.1"
  }
 },
 "nbformat": 4,
 "nbformat_minor": 2
}
