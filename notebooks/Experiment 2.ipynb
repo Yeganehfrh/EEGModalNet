{
 "cells": [
  {
   "cell_type": "code",
   "execution_count": 8,
   "metadata": {},
   "outputs": [],
   "source": [
    "import torch\n",
    "import torchaudio\n",
    "import mne\n",
    "import torchaudio.functional as F\n",
    "import torchaudio.transforms as T\n",
    "import xarray as xr\n",
    "import matplotlib.pyplot as plt\n",
    "import os\n",
    "import numpy as np\n",
    "from sklearn.preprocessing import RobustScaler, robust_scale"
   ]
  },
  {
   "cell_type": "markdown",
   "metadata": {},
   "source": [
    "### Setup"
   ]
  },
  {
   "cell_type": "code",
   "execution_count": 21,
   "metadata": {},
   "outputs": [
    {
     "name": "stdout",
     "output_type": "stream",
     "text": [
      "Extracting parameters from data/test/sub-032301/RSEEG/sub-010002.vhdr...\n",
      "Setting channel info structure...\n"
     ]
    }
   ],
   "source": [
    "# check the current working directory\n",
    "cwd = '/Users/yeganeh/Codes/EEGNet/'\n",
    "if os.getcwd() != cwd:\n",
    "    os.chdir(cwd)\n",
    "\n",
    "# channel names\n",
    "EEG = mne.io.read_raw_brainvision('data/test/sub-032301/RSEEG/sub-010002.vhdr', eog=['VEOG'])\n",
    "ch_names = EEG.info['ch_names']\n",
    "ch_names.remove('VEOG')\n",
    "del EEG\n",
    "\n",
    "# helper function to load the data\n",
    "# Helper functions\n",
    "# clamp\n",
    "def clamp_eeg(data, axis=1, deviation=20):\n",
    "    \"\"\"Clamp EEG data proportional to the standard deviation of each channel.\"\"\"\n",
    "    # container for clamped data\n",
    "    data_clamped = np.zeros_like(data)\n",
    "    upper_dev = data.mean(axis=axis) + data.std(axis=axis) * deviation\n",
    "    lower_dev = data.mean(axis=axis) - data.std(axis=axis) * deviation\n",
    "    for i in range(data.shape[0]):\n",
    "        data_clamped[i, :] = np.clip(data[i, :], lower_dev[i], upper_dev[i])\n",
    "    return data_clamped\n",
    "\n",
    "def print_min_max(data, lower_dev, upper_dev, sub, channel):\n",
    "    \"\"\"Prints the min and max of a channel and checks if it would be clamped by the clamp_eeg function\n",
    "    This is used to check if the clamp function is working as expected.\"\"\"\n",
    "    if data[sub, channel, :].min() < lower_dev[sub, channel] or data[sub, channel, :].max() > upper_dev[sub, channel]:\n",
    "        print(f'Data: {sub}, {channel}: Min={data[sub, channel, :].min()}, Max={data[sub, channel, :].max()}',\n",
    "              f'Bounderies: Lower={lower_dev[sub, channel]}, Higher={upper_dev[sub, channel]}')\n",
    "\n",
    "def power_to_db(S, ref=1.0, amin=1e-10, top_db=80.0):\n",
    "    ref_value = torch.tensor(ref)\n",
    "    amin = torch.tensor(amin)\n",
    "    log_spec = 10.0 * torch.log10(torch.maximum(amin, S))\n",
    "    log_spec -= 10.0 * torch.log10(torch.maximum(amin, ref_value))\n",
    "\n",
    "    if top_db is not None:\n",
    "        if top_db < 0:\n",
    "            raise ValueError(\"top_db must be non-negative\")\n",
    "        log_spec = torch.maximum(log_spec, log_spec.max() - top_db)\n",
    "\n",
    "    return log_spec"
   ]
  },
  {
   "cell_type": "markdown",
   "metadata": {},
   "source": [
    "### Preprocessing"
   ]
  },
  {
   "cell_type": "code",
   "execution_count": null,
   "metadata": {},
   "outputs": [],
   "source": [
    "# load the data\n",
    "data = xr.open_dataarray('data/baseline_corrected/eeg_EC_BaseCorr.nc5', engine='h5netcdf')\n",
    "subjects = data.subject.values[:50]\n",
    "\n",
    "# an xarray container for collecting procesed data across subjects\n",
    "processed_data = {}\n",
    "\n",
    "for sub in subjects:\n",
    "  print(f'Processing {sub}')\n",
    "  sub_data = data.sel(subject=sub).values\n",
    "\n",
    "  # normalize\n",
    "  sub_data = RobustScaler().fit_transform(sub_data)\n",
    "\n",
    "  # clamp\n",
    "  sub_data = clamp_eeg(sub_data)\n",
    "\n",
    "  processed_data[sub] = sub_data\n",
    "\n",
    "# save the processed data\n",
    "data = xr.DataArray(np.array(list(processed_data.values())),\n",
    "                    dims=('subject', 'channel', 'time'),\n",
    "                    coords={'subject': list(processed_data.keys()),\n",
    "                            'channel': ch_names})\n",
    "# data.to_netcdf('data/processed/normalized_clamped/eeg_EC_BaseCorr_Norm_Clamp_50.nc5')"
   ]
  },
  {
   "cell_type": "markdown",
   "metadata": {},
   "source": [
    "### Feature extraction\n",
    "#### time-frequency analysis"
   ]
  },
  {
   "cell_type": "code",
   "execution_count": 99,
   "metadata": {},
   "outputs": [
    {
     "name": "stdout",
     "output_type": "stream",
     "text": [
      "Not setting metadata\n",
      "1 matching events found\n",
      "No baseline correction applied\n",
      "0 projection items activated\n"
     ]
    },
    {
     "name": "stderr",
     "output_type": "stream",
     "text": [
      "[Parallel(n_jobs=1)]: Done  17 tasks      | elapsed:    0.4s\n"
     ]
    },
    {
     "data": {
      "image/png": "[encoded data removed]",
      "text/plain": [
       "<Figure size 640x480 with 1 Axes>"
      ]
     },
     "metadata": {},
     "output_type": "display_data"
    }
   ],
   "source": [
    "# open processed eeg data\n",
    "data = xr.open_dataarray('data/processed/normalized_clamped/eeg_EC_BaseCorr_Norm_Clamp_50.nc5', engine='h5netcdf')\n",
    "subjects = data.subject.values\n",
    "\n",
    "tfrs = {}\n",
    "\n",
    "# morlet wavelet transform\n",
    "freqs = np.arange(7, 30, 2) \n",
    "n_cycles = [np.ceil(i) for i in freqs/(freqs[0]-2)]\n",
    "\n",
    "for sub in subjects:\n",
    "    data = data.sel(subject=sub).values\n",
    "    data = np.expand_dims(data, axis=0)  # add an additional dimension to the data\n",
    "    tfr = mne.time_frequency.tfr_array_morlet(data, freqs=freqs, sfreq=128, n_cycles=n_cycles,\n",
    "                                              output='power',\n",
    "                                              n_jobs=-1)\n",
    "    tfrs[sub] = tfr\n",
    "\n",
    "# convert the dictionary to a xarray\n",
    "tfrs = xr.DataArray(tfrs)\n",
    "tfrs = tfrs.rename({'dim_0': 'subject', 'dim_1': 'frequency', 'dim_2': 'channel', 'dim_3': 'time'})\n",
    "tfrs = tfrs.transpose('subject', 'frequency', 'channel', 'time')\n",
    "tfrs.to_netcdf('data/tfrs.nc5')\n",
    "\n",
    "# maybe only the spatial and frequency dimensions are important, so we can average over the time dimension\n",
    "# and plot the heatmap of the average power over time (frequency X channels)\n",
    "# Because our data is not time-locked!\n",
    "tfr = tfr.squeeze().mean(axis=-1)\n",
    "tfr = power_to_db(torch.tensor(tfr))\n",
    "\n",
    "# plot heatmap of the average power over time (frequency x channels)\n",
    "plt.imshow(tfr, aspect='auto', origin='lower', cmap='jet')\n",
    "plt.xticks([])\n",
    "plt.yticks([])\n",
    "# plt.colorbar()\n",
    "\n",
    "# save the plot\n",
    "plt.savefig('data/figures/tfr_heatmap.png')"
   ]
  },
  {
   "cell_type": "markdown",
   "metadata": {},
   "source": [
    "#### Plot topomap and use that as the input to the network"
   ]
  },
  {
   "cell_type": "code",
   "execution_count": null,
   "metadata": {},
   "outputs": [],
   "source": [
    "# create a epochs object\n",
    "info = mne.create_info(ch_names=ch_names, sfreq=128, ch_types='eeg')\n",
    "epochs = mne.EpochsArray(data, info)\n",
    "\n",
    "pos = mne.channels.make_standard_montage('standard_1005')\n",
    "# add digitization points to the epoched data\n",
    "epochs.set_montage(pos)\n",
    "mne.viz.plot_tfr_topomap(tfr[0])"
   ]
  }
 ],
 "metadata": {
  "kernelspec": {
   "display_name": "eegnet",
   "language": "python",
   "name": "python3"
  },
  "language_info": {
   "codemirror_mode": {
    "name": "ipython",
    "version": 3
   },
   "file_extension": ".py",
   "mimetype": "text/x-python",
   "name": "python",
   "nbconvert_exporter": "python",
   "pygments_lexer": "ipython3",
   "version": "3.12.1"
  }
 },
 "nbformat": 4,
 "nbformat_minor": 2
}
