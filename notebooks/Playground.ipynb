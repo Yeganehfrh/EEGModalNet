{
 "cells": [
  {
   "cell_type": "code",
   "execution_count": 1,
   "metadata": {},
   "outputs": [],
   "source": [
    "import tqdm\n",
    "import torch\n",
    "import torchaudio\n",
    "import mne\n",
    "import torchaudio.functional as F\n",
    "import torchaudio.transforms as T\n",
    "import xarray as xr\n",
    "import matplotlib.pyplot as plt\n",
    "import os\n",
    "import numpy as np\n",
    "from sklearn.preprocessing import RobustScaler, robust_scale"
   ]
  },
  {
   "cell_type": "markdown",
   "metadata": {},
   "source": [
    "### Setup"
   ]
  },
  {
   "cell_type": "code",
   "execution_count": 2,
   "metadata": {},
   "outputs": [
    {
     "name": "stdout",
     "output_type": "stream",
     "text": [
      "Extracting parameters from data/test/sub-032301/RSEEG/sub-010002.vhdr...\n",
      "Setting channel info structure...\n"
     ]
    }
   ],
   "source": [
    "# channel names\n",
    "EEG = mne.io.read_raw_brainvision('data/test/sub-032301/RSEEG/sub-010002.vhdr', eog=['VEOG'])\n",
    "ch_names = EEG.info['ch_names']\n",
    "ch_names.remove('VEOG')\n",
    "del EEG\n",
    "\n",
    "# helper function to load the data\n",
    "# Helper functions\n",
    "# clamp\n",
    "def clamp_eeg(data, axis=1, deviation=20):\n",
    "    \"\"\"Clamp EEG data proportional to the standard deviation of each channel.\"\"\"\n",
    "    # container for clamped data\n",
    "    data_clamped = np.zeros_like(data)\n",
    "    upper_dev = data.mean(axis=axis) + data.std(axis=axis) * deviation\n",
    "    lower_dev = data.mean(axis=axis) - data.std(axis=axis) * deviation\n",
    "    for i in range(data.shape[0]):\n",
    "        data_clamped[i, :] = np.clip(data[i, :], lower_dev[i], upper_dev[i])\n",
    "    return data_clamped\n",
    "\n",
    "def print_min_max(data, lower_dev, upper_dev, sub, channel):\n",
    "    \"\"\"Prints the min and max of a channel and checks if it would be clamped by the clamp_eeg function\n",
    "    This is used to check if the clamp function is working as expected.\"\"\"\n",
    "    if data[sub, channel, :].min() < lower_dev[sub, channel] or data[sub, channel, :].max() > upper_dev[sub, channel]:\n",
    "        print(f'Data: {sub}, {channel}: Min={data[sub, channel, :].min()}, Max={data[sub, channel, :].max()}',\n",
    "              f'Bounderies: Lower={lower_dev[sub, channel]}, Higher={upper_dev[sub, channel]}')\n",
    "\n",
    "def power_to_db(S, ref=1.0, amin=1e-10, top_db=80.0):\n",
    "    ref_value = torch.tensor(ref)\n",
    "    amin = torch.tensor(amin)\n",
    "    log_spec = 10.0 * torch.log10(torch.maximum(amin, S))\n",
    "    log_spec -= 10.0 * torch.log10(torch.maximum(amin, ref_value))\n",
    "\n",
    "    if top_db is not None:\n",
    "        if top_db < 0:\n",
    "            raise ValueError(\"top_db must be non-negative\")\n",
    "        log_spec = torch.maximum(log_spec, log_spec.max() - top_db)\n",
    "\n",
    "    return log_spec"
   ]
  },
  {
   "cell_type": "markdown",
   "metadata": {},
   "source": [
    "### Preprocessing"
   ]
  },
  {
   "cell_type": "code",
   "execution_count": null,
   "metadata": {},
   "outputs": [],
   "source": [
    "# load the data\n",
    "data = xr.open_dataarray('data/processed/baseline_corrected/eeg_EC_BaseCorr.nc5', engine='h5netcdf')\n",
    "subjects = data.subject.values\n",
    "\n",
    "# an xarray container for collecting procesed data across subjects\n",
    "processed_data = {}\n",
    "\n",
    "for sub in tqdm.tqdm(subjects):\n",
    "  print(f'Processing {sub}')\n",
    "  sub_data = data.sel(subject=sub).values\n",
    "\n",
    "  # normalize\n",
    "  sub_data = RobustScaler().fit_transform(sub_data)\n",
    "\n",
    "  # clamp\n",
    "  sub_data = clamp_eeg(sub_data)\n",
    "\n",
    "  processed_data[sub] = sub_data\n",
    "\n",
    "# save the processed data\n",
    "data = xr.DataArray(np.array(list(processed_data.values())),\n",
    "                    dims=('subject', 'channel', 'time'),\n",
    "                    coords={'subject': list(processed_data.keys()),\n",
    "                            'channel': ch_names})\n",
    "# data.to_netcdf('data/processed/normalized_clamped/eeg_EC_BaseCorr_Norm_Clamp.nc5', engine='h5netcdf')"
   ]
  },
  {
   "cell_type": "markdown",
   "metadata": {},
   "source": [
    "### Feature extraction\n",
    "#### time-frequency analysis"
   ]
  },
  {
   "cell_type": "code",
   "execution_count": null,
   "metadata": {},
   "outputs": [],
   "source": [
    "# open processed eeg data\n",
    "DATA = xr.open_dataarray('data/processed/normalized_clamped/eeg_EC_BaseCorr_Norm_Clamp.nc5', engine='h5netcdf')\n",
    "subjects = DATA.subject.values\n",
    "\n",
    "tfrs = {}\n",
    "\n",
    "# morlet wavelet transform\n",
    "freqs = np.arange(3, 30, 2)  # TODO: I used 7 as the lower boundery but will change it to 3 as it is now\n",
    "n_cycles = [np.ceil(i) for i in freqs/(freqs[0]-2)]\n",
    "\n",
    "for sub in subjects:\n",
    "    print(f'Processing {sub}')\n",
    "    data_sub = DATA.sel(subject=sub).values\n",
    "    data_sub = np.expand_dims(data_sub, axis=0)  # add an additional dimension to the data\n",
    "    tfr = mne.time_frequency.tfr_array_morlet(data_sub, freqs=freqs, sfreq=128, n_cycles=n_cycles,\n",
    "                                              output='power',\n",
    "                                              n_jobs=-1, verbose=0)\n",
    "\n",
    "    # maybe only the spatial and frequency dimensions are important, so we can average over the time dimension\n",
    "    # Because our data is not time-locked!\n",
    "    tfrs[sub] = tfr.squeeze().mean(axis=-1)\n",
    "\n",
    "# convert the dictionary to a xarray\n",
    "tfrs = xr.DataArray(np.array(list(tfrs.values())),\n",
    "                    dims=('subject', 'channels', 'freqs'),\n",
    "                    coords={'subject': list(tfrs.keys()),\n",
    "                            'channels': ch_names,\n",
    "                            'freqs': freqs}\n",
    "                    )\n",
    "# save the tfrs\n",
    "tfrs.to_netcdf('data/TFR/tfrs.nc5', engine='h5netcdf')"
   ]
  },
  {
   "cell_type": "markdown",
   "metadata": {},
   "source": [
    "#### Plot Frequency-Channel"
   ]
  },
  {
   "cell_type": "code",
   "execution_count": null,
   "metadata": {},
   "outputs": [],
   "source": [
    "# open tfrs\n",
    "tfrs = xr.open_dataarray('data/TFR/tfrs.nc5', engine='h5netcdf')\n",
    "subjects = tfrs.subject.values\n",
    "min_max = []\n",
    "\n",
    "for sub in subjects[:10]:\n",
    "    print(f'Processing {sub}')\n",
    "    tfr = tfrs.sel(subject=sub).values\n",
    "    tfr = power_to_db(torch.tensor(tfr))\n",
    "\n",
    "    # plot heatmap of the average power over time (frequency x channels)\n",
    "    plt.imshow(tfr, aspect='auto', origin='lower', cmap='jet')\n",
    "    plt.xticks([])\n",
    "    plt.yticks([])\n",
    "\n",
    "    # save the plot\n",
    "    plt.savefig(f'data/figures/tfr_heatmap_{sub}.png')"
   ]
  },
  {
   "cell_type": "markdown",
   "metadata": {},
   "source": [
    "### CNN-AE"
   ]
  },
  {
   "cell_type": "code",
   "execution_count": 103,
   "metadata": {},
   "outputs": [],
   "source": [
    "import torch.nn as nn\n",
    "input = tfr.unsqueeze(0).float()\n",
    "input2 = torch.tensor(tfrs.to_numpy()).float()\n",
    "batch_size = input.shape[0]\n",
    "\n",
    "#### Encoder\n",
    "encoder = nn.Sequential(nn.Conv2d(batch_size, 61, 2, bias=False),\n",
    "nn.BatchNorm1d(60, False),                       \n",
    "nn.Conv2d(61, 32, 2, bias=False),\n",
    "nn.BatchNorm1d(59, False)\n",
    ")\n",
    "#### Decoder\n",
    "decoder = nn.Sequential(nn.ConvTranspose2d(32, 10, 2),\n",
    "                        nn.ConvTranspose2d(10, batch_size, 2))\n",
    "\n",
    "out = encoder(input)\n",
    "out2 = decoder(out)\n"
   ]
  },
  {
   "cell_type": "code",
   "execution_count": 131,
   "metadata": {},
   "outputs": [
    {
     "data": {
      "image/png": "[encoded data removed]",
      "text/plain": [
       "<Figure size 1000x500 with 2 Axes>"
      ]
     },
     "metadata": {},
     "output_type": "display_data"
    }
   ],
   "source": [
    "fig, axs = plt.subplots(1, 2, figsize=[10, 5])\n",
    "axs[0].imshow(tfr, aspect='auto', origin='lower', cmap='jet')\n",
    "axs[0].set_title('Input Data')\n",
    "axs[0].set_xlabel('Frequency')\n",
    "axs[0].set_ylabel('Channels')\n",
    "\n",
    "axs[1].imshow(out2[0, :, :].detach().numpy(), aspect='auto', origin='lower', cmap='jet')\n",
    "axs[1].set_title('Reconstructed')\n",
    "axs[1].set_xlabel('Frequency')\n",
    "plt.show()"
   ]
  },
  {
   "cell_type": "markdown",
   "metadata": {},
   "source": [
    "## TorchAudio.Transform.Spectogram\n",
    "This section tests the impact of different variables on calculating the spectogram."
   ]
  },
  {
   "cell_type": "code",
   "execution_count": 2,
   "metadata": {},
   "outputs": [],
   "source": [
    "from src.EEGNet.dataloader.dataloader import TimeDimSplit\n",
    "from pathlib import Path\n",
    "import torch.functional as F\n",
    "import torchaudio as ta\n",
    "import torch.nn.functional as F\n",
    "import torch\n",
    "import math\n",
    "import numpy as np\n",
    "import matplotlib.pyplot as plt\n",
    "\n",
    "# helper functions\n",
    "def power_to_db(x, ref=1.0, amin=1e-10, top_db=80.0):\n",
    "    x = x.abs().pow(2)\n",
    "    ref = ref**2\n",
    "    val = 10.0 * torch.log10(torch.clamp(x, min=amin, max=np.inf))\n",
    "    if top_db is not None:\n",
    "        val = torch.max(val, val.max() - top_db)\n",
    "    return val\n",
    "\n",
    "def pad_multiple(x: torch.Tensor, base: int):\n",
    "    length = x.shape[-1]\n",
    "    target = math.ceil(length / base) * base\n",
    "    return torch.nn.functional.pad(x, (0, target - length))\n",
    "\n",
    "# parameters\n",
    "n_fft = 256\n",
    "fft_complex = False\n",
    "in_channels = 61\n",
    "\n",
    "if n_fft is not None:\n",
    "    pad = n_fft // 4\n",
    "    kernel = n_fft\n",
    "    stride = n_fft // 2\n",
    "\n",
    "in_channels *= n_fft // 2 + 1\n",
    "if fft_complex:\n",
    "    in_channels *= 2\n",
    "\n",
    "# Data\n",
    "data_dir = Path('data/processed/normalized_clamped/eeg_EC_BaseCorr_Norm_Clamp_with_pos.nc5')\n",
    "data = TimeDimSplit(data_dir=data_dir, batch_size=512, segment_size=128 * 4, n_subjects=1)\n",
    "data.prepare_data()"
   ]
  },
  {
   "cell_type": "markdown",
   "metadata": {},
   "source": [
    "### Are the STFT and torchaudio.spectogram the same\n",
    "If we use the same parameter, but the spectogram function recieves 3D inputs with the first axis being the batch."
   ]
  },
  {
   "cell_type": "code",
   "execution_count": null,
   "metadata": {},
   "outputs": [],
   "source": [
    "x = data.train_dataset.tensors[0].permute(0, 2, 1)\n",
    "stft = ta.transforms.Spectrogram(n_fft=256, normalized=False, power=None)\n",
    "torch_sfft = torch.stft(x[0, :, :],\n",
    "                        n_fft=256, hop_length=128,\n",
    "                        normalized=False,\n",
    "                        window=torch.hann_window(256, periodic=True,\n",
    "                        dtype=torch.float32), return_complex=True)\n",
    "z = stft(x)\n",
    "torch_sfft == z"
   ]
  },
  {
   "cell_type": "markdown",
   "metadata": {},
   "source": [
    "### Inverse Fourier Transform\n",
    "and compare it with the original signal"
   ]
  },
  {
   "cell_type": "code",
   "execution_count": null,
   "metadata": {},
   "outputs": [],
   "source": [
    "import torchaudio.transforms as T\n",
    "import torch.nn as nn\n",
    "\n",
    "# Assuming data.train_dataset.tensors[0] contains your input waveform\n",
    "x = data.train_dataset.tensors[0].permute(0, 2, 1)\n",
    "\n",
    "# Spectrogram transformation\n",
    "# if we normalize the x_hat and x will not be equal\n",
    "# we need to return the complex values to be able to reconstruct the signal so power = None\n",
    "# use z.abs() to get the magnitude of the complex numbers, that equals to use power=1 in the function.\n",
    "# z.abs() method is equal to (z.real.pow(2) + z.imag.pow(2)) ** 0.5\n",
    "stft = T.Spectrogram(n_fft=256, hop_length=128, power=None, normalized=False)\n",
    "z = stft(x)\n",
    "\n",
    "# Inverse Spectrogram transformation\n",
    "inverse = T.InverseSpectrogram(n_fft=256, hop_length=128)\n",
    "x_hat = inverse(z)\n",
    "\n",
    "# the x and x_hat are nearly equal\n",
    "torch.allclose(x, x_hat)"
   ]
  },
  {
   "cell_type": "code",
   "execution_count": null,
   "metadata": {},
   "outputs": [],
   "source": [
    "n_channels = 61\n",
    "import torch.nn as nn\n",
    "encoder_conv = nn.Sequential(\n",
    "            nn.Conv1d(n_channels, n_channels * 2, kernel_size=4, stride=2, bias=False),\n",
    "            # nn.ReLU(),\n",
    "            # nn.Conv1d(n_channels * 2, n_channels * 4, kernel_size=4, stride=2, bias=False),\n",
    "            # nn.ReLU(),\n",
    "            # nn.Conv1d(n_channels * 4, n_channels * 8, kernel_size=4, stride=2, bias=False),\n",
    "            # nn.ReLU(),\n",
    "            # nn.Flatten(),\n",
    "        )\n",
    "encoder_conv(z.mean(-1)).shape"
   ]
  }
 ],
 "metadata": {
  "kernelspec": {
   "display_name": "eegnet",
   "language": "python",
   "name": "python3"
  },
  "language_info": {
   "codemirror_mode": {
    "name": "ipython",
    "version": 3
   },
   "file_extension": ".py",
   "mimetype": "text/x-python",
   "name": "python",
   "nbconvert_exporter": "python",
   "pygments_lexer": "ipython3",
   "version": "3.12.1"
  }
 },
 "nbformat": 4,
 "nbformat_minor": 2
}
