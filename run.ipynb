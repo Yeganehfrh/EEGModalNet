{
 "cells": [
  {
   "cell_type": "code",
   "execution_count": 1,
   "metadata": {},
   "outputs": [],
   "source": [
    "%reload_ext autoreload\n",
    "%autoreload 3\n",
    "\n",
    "import mne\n",
    "import pandas as pd\n",
    "import numpy as np\n",
    "from src.preprocessing import utils\n",
    "from pathlib import Path\n",
    "import re\n",
    "import matplotlib.pyplot as plt\n",
    "\n",
    "# data directories\n",
    "data_path = f'/Volumes/Extreme SSD/PhD/MPI-LEMON/EEG_Raw_BIDS_ID/'\n",
    "mpi_path = f'/Volumes/EEG_MPILMBB_LEMON/EEG_Preprocessed_BIDS_ID/EEG_Preprocessed/'"
   ]
  },
  {
   "cell_type": "markdown",
   "metadata": {},
   "source": [
    "### Which data are excluded from MPI dataset for processing?"
   ]
  },
  {
   "cell_type": "code",
   "execution_count": 69,
   "metadata": {},
   "outputs": [],
   "source": [
    "# get all subject ids in preprocessed folder\n",
    "sub_ids_pro = []\n",
    "for subject_path in sorted(Path(mpi_path).glob('sub-*')):\n",
    "  sub_ids_pro.append(re.search('sub-(.*)_(.*)', subject_path.stem).group(1))\n",
    "sub_ids_pro = set(sub_ids_pro)  # drop duplicates\n",
    "\n",
    "# get all subject ids in raw folder\n",
    "sub_ids_raw = []\n",
    "for subject_path in sorted(Path(data_path).glob('sub-*')):\n",
    "  sub_ids_raw.append(re.search('sub-(.*)', subject_path.stem).group(1))\n",
    "sub_ids_raw = set(sub_ids_raw)  # drop any possible duplicates\n",
    "\n",
    "# find any ids in sub_ids_raw that are not in sub_ids_pro\n",
    "sub_ids_excluded = sorted(list(sub_ids_pro - sub_ids_raw))"
   ]
  },
  {
   "cell_type": "markdown",
   "metadata": {},
   "source": [
    "## TODO: delete the entire cell: Annotations & Data Segmentation\n",
    "### Data with different annotation patterns"
   ]
  },
  {
   "cell_type": "code",
   "execution_count": 124,
   "metadata": {},
   "outputs": [],
   "source": [
    "fnames_annot_misbehave = {}\n",
    "sub_ids_raw = []\n",
    "for subject_path in sorted(Path(data_path).glob('sub-*')):\n",
    "  sub_id = subject_path.stem\n",
    "  sub_ids_raw.append(subject_path.stem)\n",
    "  raw = mne.io.read_raw_brainvision(data_path+f'/{sub_id}/RSEEG/{sub_id}.vhdr', verbose=False)\n",
    "  \n",
    "  # check annot names\n",
    "  points = utils.annotations_checker(raw.annotations.description.copy())\n",
    "\n",
    "  # save those with deflection\n",
    "  if sum(points.values()) != 2:\n",
    "     fnames_annot_misbehave[sub_id] = points"
   ]
  },
  {
   "cell_type": "markdown",
   "metadata": {},
   "source": [
    "### 1. segment and preprocess data with common annotation patterns"
   ]
  },
  {
   "cell_type": "code",
   "execution_count": 136,
   "metadata": {},
   "outputs": [],
   "source": [
    "sub_ids_normal = sorted(list(set(sub_ids_raw) - set(fnames_annot_misbehave.keys())))\n",
    "output_path = '/Volumes/Extreme SSD/PhD/MPI-LEMON/EEG_Raw_segmented/'\n",
    "rsfreq = 250"
   ]
  },
  {
   "cell_type": "code",
   "execution_count": 138,
   "metadata": {},
   "outputs": [],
   "source": [
    "for sub_id in sub_ids_normal[:5]:\n",
    "    raw = mne.io.read_raw_brainvision(data_path+f'/{sub_id}/RSEEG/{sub_id}.vhdr', verbose=False)\n",
    "    onsets, pattern = utils.find_pattern(raw)\n",
    "    raws = utils.segment_raw(raw, onsets, pattern, duration=60)\n",
    "\n",
    "    # save EC/EO segments in brainvision format\n",
    "    ## create subject folder\n",
    "    subject_path = output_path + sub_id\n",
    "    Path(subject_path).mkdir(parents=True, exist_ok=True)\n",
    "    ## downsample and save\n",
    "    for k in raws.keys():\n",
    "        raws[k].resample(rsfreq)\n",
    "        raws[k].export(subject_path + f'/{sub_id}_{k}.vhdr')"
   ]
  },
  {
   "cell_type": "markdown",
   "metadata": {},
   "source": [
    "### 2. segment raw data with not common annotation patterns"
   ]
  },
  {
   "cell_type": "code",
   "execution_count": null,
   "metadata": {},
   "outputs": [],
   "source": [
    "typ1 = ['sub-010026']\n",
    "# an extera ''New Segment/', 'Comment/no USB Connection to actiCAP' markers in the beginning.\n",
    "\n",
    "typ2 = ['sub-010030']\n",
    "#an extera ''New Segment/', 'Comment/no USB Connection to actiCAP' markers in the beginning without extra switch markers.\n",
    "\n",
    "typ3 = ['sub-010062', 'sub-010064', 'sub-010134'] # only one switch markers in the beginning \n",
    "\n",
    "typ4 = ['sub-010191'] # an extra 'New Segment/' 'Comment/no USB Connection to actiCAP' 'Stimulus/S  1' markers in the beginning.\n",
    "\n",
    "typ5 = ['sub-010264'] # no switch markers in the beginning\n",
    "\n",
    "# ----------------------------------------------\n",
    "typ6 = ['sub-010126']\n",
    "# this subject there is no switch markers, and the annotation for eye closed is 'Stimulus/S208'\n",
    "\n",
    "# no switch markers in the annotations, and there is only two useless markers in the beginning\n",
    "typ7 = ['sub-010138', 'sub-010155', 'sub-010157',\n",
    "        'sub-010162', 'sub-010163', 'sub-010164', 'sub-010165',\n",
    "        'sub-010166', 'sub-010168', 'sub-010228', 'sub-010233',\n",
    "        'sub-010239', 'sub-010255', 'sub-010257', 'sub-010258',\n",
    "        'sub-010260', 'sub-010261', 'sub-010262', 'sub-010263',\n",
    "        'sub-010267', 'sub-010268', 'sub-010269', 'sub-010270',\n",
    "        'sub-010271', 'sub-010272', 'sub-010273', 'sub-010274',\n",
    "        'sub-010275', 'sub-010284', 'sub-010311', 'sub-010315',\n",
    "        'sub-010318']"
   ]
  },
  {
   "cell_type": "markdown",
   "metadata": {},
   "source": [
    "## Divide data to eye closed and eye open segments"
   ]
  },
  {
   "cell_type": "code",
   "execution_count": 133,
   "metadata": {},
   "outputs": [],
   "source": [
    "# Check if all the switch markers's onsets are the same as the beginning of the EC/EO segments\n",
    "sanity_check = {}\n",
    "for subject_path in sorted(Path(data_path).glob('sub-*')):\n",
    "    sub_id = subject_path.stem\n",
    "    raw = mne.io.read_raw_brainvision(data_path+f'/{sub_id}/RSEEG/{sub_id}.vhdr', verbose=False)\n",
    "\n",
    "    # create a dictionary of annotations\n",
    "    desc = utils.change_annot_names(raw.annotations.description.copy(),\n",
    "                                    enumerated=True)\n",
    "    onsets = raw.annotations.onset.copy()\n",
    "    annot_dict = {k: v for k, v in zip(desc, onsets)}\n",
    "\n",
    "    # find the points where a switch between EC/EO happens\n",
    "    switch_onsets, switch_pattern = utils.find_switch_onset_pattern(annot_dict)\n",
    "    \n",
    "    # segment raw data based on switch points\n",
    "    raws = utils.segment_raw(raw, switch_onsets, switch_pattern, duration=60)\n",
    "    \n",
    "    # check if the segments are correct (only EC or EO in each segment)\n",
    "    for s in ['EC', 'EO']:\n",
    "        sanity_check[sub_id + '_' + s] = utils.check_segments(raws[s])"
   ]
  },
  {
   "cell_type": "code",
   "execution_count": null,
   "metadata": {},
   "outputs": [],
   "source": [
    "### ------------- resampling & save\n",
    "raw.resample(128)\n",
    "\n",
    "### ------------- pick eeg\n",
    "raw.pick(picks='eeg')\n",
    "\n",
    "### ------------- train-test-val split\n",
    "\n",
    "### ------------- segmentation\n",
    "\n",
    "### ------------- baseline correction (subtracted from each input channel its average over the first 0.5 s)\n",
    "data = raw.get_data()\n",
    "data = data - data[:, :int(raw.info['sfreq'] * 0.5)].mean(axis=1, keepdims=True)\n",
    "\n",
    "# recreate raw object\n",
    "raw_EC = mne.io.RawArray(data, raw.info)\n",
    "\n",
    "### ------------- scaling\n",
    "\n",
    "### ------------- clamping\n",
    "\n",
    "### ------------- rereferencing??\n",
    "\n",
    "### ------------- functional connectivity"
   ]
  },
  {
   "cell_type": "markdown",
   "metadata": {},
   "source": [
    "## Processing"
   ]
  },
  {
   "cell_type": "code",
   "execution_count": 2,
   "metadata": {},
   "outputs": [],
   "source": [
    "bad_chs = {}\n",
    "### ------------- load raw data\n",
    "sub_id = 'sub-010026'\n",
    "raw = mne.io.read_raw_brainvision(data_path+f'/{sub_id}/RSEEG/{sub_id}.vhdr', verbose=False,\n",
    "                                  eog=['VEOG'])\n",
    "\n",
    "### ------------- divide into EC/EO segments\n",
    "# create a dictionary of annotations\n",
    "desc = utils.change_annot_names(raw.annotations.description.copy(),\n",
    "                                enumerated=True)\n",
    "onsets = raw.annotations.onset.copy()\n",
    "annot_dict = {k: v for k, v in zip(desc, onsets)}\n",
    "\n",
    "# find the points where a switch between EC/EO happens\n",
    "switch_onsets, switch_pattern = utils.find_switch_onset_pattern(annot_dict)\n",
    "\n",
    "# segment raw data based on switch points\n",
    "raws = utils.segment_raw(raw, switch_onsets, switch_pattern, duration=60)\n",
    "raw_EO = raws['EO']\n",
    "raw_EC = raws['EC']\n",
    "del raws"
   ]
  },
  {
   "cell_type": "code",
   "execution_count": 44,
   "metadata": {},
   "outputs": [],
   "source": [
    "from sklearn.preprocessing import robust_scale, scale\n",
    "\n",
    "def plot_raw(data, psd=False):\n",
    "    data = data.reshape(data.shape[0], -1)\n",
    "    data = mne.io.RawArray(data, raw.info)\n",
    "    if psd:\n",
    "        data.compute_psd().plot(average=True, spatial_colors=True)\n",
    "    else:\n",
    "        data.plot()"
   ]
  },
  {
   "cell_type": "code",
   "execution_count": 22,
   "metadata": {},
   "outputs": [],
   "source": [
    "# # use a sample of the data\n",
    "# raw = raw_EO.copy().crop(0, 60)\n",
    "# ### ------------- resampling & save\n",
    "# raw.resample(128)\n",
    "\n",
    "# ### ------------- pick eeg\n",
    "# raw.pick(picks='eeg')\n",
    "\n",
    "### ------------- segment data into 3s epochs\n",
    "data = raw.get_data()\n",
    "data = data.reshape(data.shape[0], -1, 384)\n",
    "\n",
    "# ### ------------- baseline correction (subtracted from each input channel and each segment its average over the first 0.5 s)\n",
    "data = data - data[:, :, :int(raw.info['sfreq'] * 0.5)].mean(axis=2, keepdims=True)\n",
    "# plot_raw(data)\n",
    "\n",
    "### ------------- robust scaling the data (subtracting the median and dividing by the interquartile range)\n",
    "\n",
    "### ------------- clamping\n",
    "\n",
    "### ------------- rereferencing??\n",
    "\n",
    "### ------------- functional connectivity"
   ]
  },
  {
   "cell_type": "code",
   "execution_count": 62,
   "metadata": {},
   "outputs": [
    {
     "name": "stdout",
     "output_type": "stream",
     "text": [
      "Creating RawArray with float64 data, n_channels=61, n_times=7680\n",
      "    Range : 0 ... 7679 =      0.000 ...    59.992 secs\n",
      "Ready.\n",
      "Using pyopengl with version 3.1.6\n"
     ]
    },
    {
     "name": "stdout",
     "output_type": "stream",
     "text": [
      "Channels marked as bad:\n",
      "none\n"
     ]
    }
   ],
   "source": [
    "data_ = robust_scale(data.reshape(61, -1), axis=1)\n",
    "\n",
    "# clamp values greater than 20 s.d.\n",
    "n = 2\n",
    "data_[data_ > n] = n\n",
    "\n",
    "plot_raw(data_)\n",
    "# plt.plot(data_[4, :])\n",
    "# plt.show()\n"
   ]
  },
  {
   "cell_type": "code",
   "execution_count": 6,
   "metadata": {},
   "outputs": [
    {
     "name": "stdout",
     "output_type": "stream",
     "text": [
      "Creating RawArray with float64 data, n_channels=61, n_times=7680\n",
      "    Range : 0 ... 7679 =      0.000 ...    59.992 secs\n",
      "Ready.\n",
      "Using pyopengl with version 3.1.6\n"
     ]
    },
    {
     "name": "stdout",
     "output_type": "stream",
     "text": [
      "Channels marked as bad:\n",
      "none\n"
     ]
    }
   ],
   "source": [
    "data_ = np.zeros((data.shape[0], data.shape[1], data.shape[2]))\n",
    "for i in range(data.shape[1]):\n",
    "    d = data[:, i, :].reshape(data.shape[0], -1)\n",
    "    data_[:, i, :] = robust_scale(d, axis=0)"
   ]
  }
 ],
 "metadata": {
  "kernelspec": {
   "display_name": "SugNet",
   "language": "python",
   "name": "python3"
  },
  "language_info": {
   "codemirror_mode": {
    "name": "ipython",
    "version": 3
   },
   "file_extension": ".py",
   "mimetype": "text/x-python",
   "name": "python",
   "nbconvert_exporter": "python",
   "pygments_lexer": "ipython3",
   "version": "3.11.5"
  }
 },
 "nbformat": 4,
 "nbformat_minor": 2
}
