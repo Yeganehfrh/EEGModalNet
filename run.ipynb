{
 "cells": [
  {
   "cell_type": "code",
   "execution_count": 1,
   "metadata": {},
   "outputs": [],
   "source": [
    "%reload_ext autoreload\n",
    "%autoreload 3\n",
    "\n",
    "import mne\n",
    "import pandas as pd\n",
    "import numpy as np\n",
    "from src.preprocessing import annotations as anch\n",
    "from pathlib import Path\n",
    "import re\n",
    "\n",
    "# data directories\n",
    "data_path = f'/Volumes/Extreme SSD/PhD/MPI-LEMON/EEG_Raw_BIDS_ID/'\n",
    "mpi_path = f'/Volumes/EEG_MPILMBB_LEMON/EEG_Preprocessed_BIDS_ID/EEG_Preprocessed/'"
   ]
  },
  {
   "cell_type": "markdown",
   "metadata": {},
   "source": [
    "### Which data are excluded from MPI dataset for processing?"
   ]
  },
  {
   "cell_type": "code",
   "execution_count": 69,
   "metadata": {},
   "outputs": [],
   "source": [
    "# get all subject ids in preprocessed folder\n",
    "sub_ids_pro = []\n",
    "for subject_path in sorted(Path(mpi_path).glob('sub-*')):\n",
    "  sub_ids_pro.append(re.search('sub-(.*)_(.*)', subject_path.stem).group(1))\n",
    "sub_ids_pro = set(sub_ids_pro) # drop duplicates\n",
    "\n",
    "# get all subject ids in raw folder\n",
    "sub_ids_raw = []\n",
    "for subject_path in sorted(Path(data_path).glob('sub-*')):\n",
    "  sub_ids_raw.append(re.search('sub-(.*)', subject_path.stem).group(1))\n",
    "sub_ids_raw = set(sub_ids_raw) # drop any possible duplicates\n",
    "\n",
    "# find any ids in sub_ids_raw that are not in sub_ids_pro\n",
    "sub_ids_excluded = sorted(list(sub_ids_pro - sub_ids_raw))"
   ]
  },
  {
   "cell_type": "markdown",
   "metadata": {},
   "source": [
    "## Annotations & Data Segmentation\n",
    "### Data with different annotation patterns"
   ]
  },
  {
   "cell_type": "code",
   "execution_count": 74,
   "metadata": {},
   "outputs": [],
   "source": [
    "fnames_annot_misbehave = {}\n",
    "for subject_path in sorted(Path(data_path).glob('sub-*')):\n",
    "  sub_id = subject_path.stem\n",
    "  raw = mne.io.read_raw_brainvision(data_path+f'/{sub_id}/RSEEG/{sub_id}.vhdr', verbose=False)\n",
    "\n",
    "  # change annot names\n",
    "  desc = anch.change_annot_names(raw.annotations.description.copy())\n",
    "\n",
    "  # check annot names\n",
    "  points = anch.annotations_checker(desc)\n",
    "\n",
    "  # save those with deflection\n",
    "  if sum(points.values()) != 2:\n",
    "     fnames_annot_misbehave[sub_id] = points\n"
   ]
  }
 ],
 "metadata": {
  "kernelspec": {
   "display_name": "SugNet",
   "language": "python",
   "name": "python3"
  },
  "language_info": {
   "codemirror_mode": {
    "name": "ipython",
    "version": 3
   },
   "file_extension": ".py",
   "mimetype": "text/x-python",
   "name": "python",
   "nbconvert_exporter": "python",
   "pygments_lexer": "ipython3",
   "version": "3.11.5"
  }
 },
 "nbformat": 4,
 "nbformat_minor": 2
}
