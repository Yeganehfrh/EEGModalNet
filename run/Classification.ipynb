{
 "cells": [
  {
   "cell_type": "markdown",
   "metadata": {},
   "source": [
    "# Classification of Hypnotic Depth"
   ]
  },
  {
   "cell_type": "code",
   "execution_count": 1,
   "metadata": {},
   "outputs": [
    {
     "name": "stderr",
     "output_type": "stream",
     "text": [
      "/opt/homebrew/Caskroom/miniforge/base/envs/EEGModalNet/lib/python3.11/site-packages/mne/externals/tempita/__init__.py:35: DeprecationWarning: 'cgi' is deprecated and slated for removal in Python 3.13\n",
      "  import cgi\n"
     ]
    }
   ],
   "source": [
    "%reload_ext autoreload\n",
    "%autoreload 2\n",
    "\n",
    "import os\n",
    "from matplotlib import pyplot as plt\n",
    "import numpy as np\n",
    "import xarray as xr\n",
    "import pandas as pd\n",
    "import seaborn as sns\n",
    "os.environ['KERAS_BACKEND'] = 'torch'\n",
    "os.environ['PYTORCH_ENABLE_MPS_FALLBACK'] = '1'\n",
    "os.environ[\"CUDA_VISIBLE_DEVICES\"] = \"\"  # force CPU usage\n",
    "import mne\n",
    "\n",
    "import torch\n",
    "import keras\n",
    "from pathlib import Path\n",
    "import re\n",
    "from sklearn.preprocessing import RobustScaler, StandardScaler\n",
    "from scipy.signal import butter, sosfilt\n",
    "from sklearn.model_selection import StratifiedGroupKFold, GroupShuffleSplit\n",
    "\n",
    "\n",
    "# helper functions\n",
    "def preprocess_data(data, baseline_mean):\n",
    "    # Step 1: Baseline correction (subtract the mean of the first 0.5 seconds for each channel) \n",
    "    data_corrected = data - baseline_mean\n",
    "    \n",
    "    # Step 2: Robust Scaler (normalize using median and IQR)\n",
    "    scaler = RobustScaler()\n",
    "    data_scaled = scaler.fit_transform(data_corrected.T)\n",
    "    \n",
    "    # Step 3: Normalization (z-score normalization)\n",
    "    normalizer = StandardScaler()\n",
    "    data_normalized = normalizer.fit_transform(data_scaled).T  # Transpose for sklearn, then back\n",
    "    \n",
    "    # Step 4: Clamp values greater than 20 standard deviations (becuause of the normalization at the previous step sd is 1)\n",
    "    std_threshold = 20\n",
    "    data_clamped = np.clip(data_normalized, -std_threshold, std_threshold)\n",
    "    \n",
    "    return data_clamped\n",
    "\n",
    "def get_averaged_data(data):\n",
    "    ''' Average over specific brain areas and return a new dataarray '''\n",
    "    ba_patches = {'LF': ['Fp1', 'F3', 'F7', 'AF3', 'F1', 'F5'],\n",
    "                  'LC': ['C3', 'T7', 'FC1', 'FC3', 'FC5', 'C1', 'C5', 'FT7'],\n",
    "                  'LP': ['P3', 'P7', 'CP1', 'CP3', 'CP5', 'TP7', 'P1', 'P5'],\n",
    "                  'LO': ['O1', 'PO3'],\n",
    "                  'RF': ['Fp2', 'F4', 'F8', 'AF4', 'F2', 'F6'],\n",
    "                  'RC': ['C4', 'T8', 'FC2', 'FC4', 'FC6', 'C2', 'C6', 'FT8'],\n",
    "                  'RP': ['P4', 'P8', 'CP2', 'CP4', 'CP6', 'TP8', 'P2', 'P6'],\n",
    "                  'RO': ['O2', 'PO4'],\n",
    "                  'FZ': ['Fz', 'Fpz'],\n",
    "                  'CZ': ['Cz'],\n",
    "                  'PZ': ['Pz', 'CPz'],\n",
    "                  'OZ': ['POz', 'Oz', 'Iz']}\n",
    "    # average over each brain area patch and save in a new empty dataset\n",
    "    C, S, T, ses = len(ba_patches), data.sizes.get('subject'), data.sizes.get('time'), 4\n",
    "    data_numpy = np.zeros([S, ses, C, T])\n",
    "    for i, (v) in enumerate(ba_patches.values()):\n",
    "        data_numpy[:, :, i, :] = data.sel(channel=v).mean(dim='channel').values\n",
    "    return data_numpy, list(ba_patches.keys())\n",
    "\n",
    "def transform_labels(y, n_classes=4):\n",
    "    \"\"\"\n",
    "    Transform the labels into a threshold-based format.\n",
    "    For a score y, returns a vector indicating if it surpasses each threshold.\n",
    "    \"\"\"\n",
    "    transformed = np.zeros((len(y), n_classes)) \n",
    "    for i, val in enumerate(y):\n",
    "        transformed[i, :val] = 1\n",
    "    return transformed"
   ]
  },
  {
   "cell_type": "markdown",
   "metadata": {},
   "source": [
    "## DATA"
   ]
  },
  {
   "cell_type": "code",
   "execution_count": 3,
   "metadata": {},
   "outputs": [],
   "source": [
    "EEG_data_path = Path('/Volumes/Extreme SSD/PhD/OTKA study1/EEG data/BIDS/')\n",
    "\n",
    "all_data = {}\n",
    "\n",
    "# is it because of the resampling that there are different number of timepoints?\n",
    "\n",
    "for root in sorted(EEG_data_path.glob('sub-*')):\n",
    "    sub_path  = root / 'ses-01/eeg/'\n",
    "    for data_path in sorted(sub_path.glob('*_eeg.vhdr')):\n",
    "        bids_id, task = re.match(r'.*/sub-(.*)_ses-01_task-(.*)_eeg.vhdr', str(data_path)).groups()\n",
    "        if task == 'baseline1':\n",
    "            print(f'>>>>>>Processing {bids_id} {task}')\n",
    "            epoch = mne.io.read_raw_brainvision(data_path, verbose=False, eog=['EOG1', 'EOG2'], misc=['ECG'])\n",
    "            epoch.pick(picks='eeg', exclude=['M1', 'M2'])\n",
    "            epoch.resample(128)\n",
    "            epoch = epoch.get_data()\n",
    "            baseline_mean = epoch.mean(axis=1, keepdims=True)\n",
    "            continue\n",
    "    \n",
    "        if task.__contains__('experience'):\n",
    "            print(f'>>>>>>Processing {bids_id} {task}')\n",
    "            epoch = mne.io.read_raw_brainvision(data_path, verbose=False, eog=['EOG1', 'EOG2'], misc=['ECG'])\n",
    "            epoch.pick(picks='eeg', exclude=['M1', 'M2'])\n",
    "            epoch.resample(128)\n",
    "            data = epoch.get_data()\n",
    "            data_clamped = preprocess_data(data, baseline_mean)\n",
    "            all_data[f'sub-{bids_id}_{task}'] = data_clamped"
   ]
  },
  {
   "cell_type": "code",
   "execution_count": 142,
   "metadata": {},
   "outputs": [],
   "source": [
    "## Prepare the data to be converted and stored as a data array\n",
    "\n",
    "# trim all the data in the dictionary to the minimum length\n",
    "min_len = min([i.shape[1] for i in list(all_data.values())])\n",
    "all_data = {k: v[:, :min_len] for k, v in all_data.items()}\n",
    "\n",
    "# there are two missing tasks for sub-52, we fill them with zeros so th\n",
    "all_data['sub-52_experience2'] = np.zeros_like(all_data['sub-52_experience1'])\n",
    "all_data['sub-52_experience3'] = np.zeros_like(all_data['sub-52_experience1'])\n",
    "data = np.array(list(all_data.values()))\n",
    "data = data.reshape(52, 4, 56, -1)  # 52 subjects, 4 conditions, 56 channels, time\n",
    "# rearranging the data for the last participant whose experience 2 and 3 data is missing\n",
    "data[-1, -1] = data[-1, -3]  \n",
    "data[-1, -3] = data[-1, -2]\n",
    "\n",
    "data = xr.DataArray(data, \n",
    "                    dims=('subject', 'tasks', 'channel', 'time'),\n",
    "                    coords={'subject': np.unique([i.split('_')[0] for i in all_data.keys()]),\n",
    "                            'tasks': ['experience1', 'experience2', 'experience3', 'experience4'],\n",
    "                            'channel': epoch.ch_names,\n",
    "                            'time': np.arange(min_len)}\n",
    "                            )\n",
    "\n",
    "# data.to_netcdf('/Users/yeganeh/Codes/otka_data/EEG/experiment_EEG_data.nc5', engine='h5netcdf')"
   ]
  },
  {
   "cell_type": "markdown",
   "metadata": {},
   "source": [
    "## Xy"
   ]
  },
  {
   "cell_type": "code",
   "execution_count": 2,
   "metadata": {},
   "outputs": [],
   "source": [
    "# open EEG and session data\n",
    "EEG_data = xr.open_dataarray('/Users/yeganeh/Codes/otka_data/EEG/experiment_EEG_data.nc5')\n",
    "session_data = pd.read_csv('/Users/yeganeh/Codes/otka_data/behavioral/behavioral_data.csv')"
   ]
  },
  {
   "cell_type": "code",
   "execution_count": 43,
   "metadata": {},
   "outputs": [],
   "source": [
    "time_dim = 512\n",
    "filtering = True\n",
    "only_labelled_hypnosis = False\n",
    "channels = ['Oz', 'Fz', 'Cz', 'Pz', 'Fp1', 'Fp2', 'F1', 'F2']\n",
    "average_over_channels = True\n",
    "output_head = 'binary_scores'  # 'score' or 'binary_scores' or 'gpt_classification'\n",
    "\n",
    "if average_over_channels:\n",
    "    X_input, channels = get_averaged_data(EEG_data)\n",
    "else:\n",
    "    X_input = EEG_data.sel(channel=channels).to_numpy()\n",
    "\n",
    "# including only hypnosis sessions\n",
    "if only_labelled_hypnosis:\n",
    "    session_data = session_data.query('description == \"hypnosis\"')[['bids_id', 'score', 'session', 'gpt_classification']].set_index('bids_id') \n",
    "    session_data = session_data.drop(index=103)  # TODO\n",
    "    n_sessions = 2\n",
    "    X_input_hyp =  np.zeros([52, n_sessions, len(channels), X_input.shape[-1]])\n",
    "    for i in range(X_input.shape[0]):\n",
    "        ses = session_data.loc[i+1, 'session'].values - 1\n",
    "        X_input_hyp[i] = X_input[i, ses, :, :]\n",
    "    X_input = X_input_hyp\n",
    "    X_input = np.delete(X_input, -2, axis=0)  # remove the missing hypnosis session for sub-52\n",
    "    del X_input_hyp\n",
    "else:\n",
    "    X_input = np.delete(X_input, [-2, -3], axis=1)  # remove two missing session for sub-52\n",
    "    session_data = session_data.drop(index=[205, 206])\n",
    "\n",
    "# preparing x\n",
    "if filtering:\n",
    "    sos = butter(4, 1, btype='high', fs=128, output='sos')\n",
    "    X_input = sosfilt(sos, X_input, axis=-1)\n",
    "\n",
    "X_input = torch.tensor(X_input.squeeze()).unfold(-1, time_dim, time_dim).permute(0, 1, 3, 4, 2).flatten(0, 1)\n",
    "\n",
    "# prepare y\n",
    "if output_head == 'gpt_classification':\n",
    "    session_data['output_head'] = session_data['gpt_classification'].apply(lambda x: 0 if x == 'no hypnosis' else 1 if x == 'shallow hypnosis' else 2)\n",
    "\n",
    "elif output_head == 'ordinal_scores':\n",
    "    session_data['output_head'] = session_data['score'].apply(lambda x: 0 if x>6 else 1 if x>4 else 2)\n",
    "    y = session_data['score'].apply(lambda x: 0 if x == 0 else 1 if x <= 3 else 2 if x <= 7 else 3)\n",
    "\n",
    "    y_transformed = transform_labels(y)\n",
    "    # y_transformed = torch.tensor(y_transformed).unsqueeze(1).repeat(1, X_input_hyp.shape[1], 1)\n",
    "    # y = torch.tensor(y).reshape(-1, 1).repeat(1, X_input_hyp.shape[1])\n",
    "\n",
    "elif output_head == 'binary_scores':\n",
    "    session_data['output_head'] = session_data['score'].apply(lambda x: 0 if x>6 else 1)\n",
    "\n",
    "y = session_data.loc['output_head']\n",
    "groups = y.index.to_numpy() - 1  # -1 because the bids_id are not zero based unlike the indices\n",
    "y = y.values"
   ]
  },
  {
   "cell_type": "code",
   "execution_count": 17,
   "metadata": {},
   "outputs": [
    {
     "name": "stdout",
     "output_type": "stream",
     "text": [
      "[0.475 0.525] [0.45454545 0.54545455]\n"
     ]
    }
   ],
   "source": [
    "# prepare Kfold cross validation\n",
    "cross_val = False\n",
    "\n",
    "if cross_val:\n",
    "    n_splits = 4\n",
    "    group_kfold = StratifiedGroupKFold(n_splits=n_splits)\n",
    "    train_val_splits = []\n",
    "    for train_idx, val_idx in group_kfold.split(X_input_hyp, y, groups=groups):\n",
    "        train_val_splits.append((train_idx, val_idx))\n",
    "\n",
    "    # make sure that the splits are stratified and ther is a balance between the classes\n",
    "    for train_idx, val_idx in train_val_splits:\n",
    "        print(np.unique(y[train_idx], return_counts=True)[1] / len(y[train_idx]), np.unique(y[val_idx], return_counts=True)[1] / len(y[val_idx]))\n",
    "\n",
    "else:\n",
    "    group_shuffle = GroupShuffleSplit(n_splits=1, test_size=0.2, random_state=9)  # random state == 9\n",
    "    train_idx, val_idx = next(group_shuffle.split(X_input_hyp, y, groups=groups))\n",
    "    print(np.unique(y[train_idx], return_counts=True)[1] / len(y[train_idx]), np.unique(y[val_idx], return_counts=True)[1] / len(y[val_idx]))"
   ]
  },
  {
   "cell_type": "code",
   "execution_count": null,
   "metadata": {},
   "outputs": [],
   "source": [
    "y = described_as_hyp.loc[:n_subject, 'binary_scores'].values\n",
    "import torch.nn.functional as F\n",
    "\n",
    "if gpt_scores:\n",
    "    y = F.one_hot(torch.tensor(y), num_classes=3).float()\n",
    "    y = y.reshape(-1, 1, 3).repeat(1, X_input_hyp.shape[1], 1)\n",
    "else:\n",
    "    y = torch.tensor(y).reshape(-1, 1).repeat(1, X_input_hyp.shape[1])"
   ]
  },
  {
   "cell_type": "markdown",
   "metadata": {},
   "source": [
    "## MODEL"
   ]
  },
  {
   "cell_type": "code",
   "execution_count": 8,
   "metadata": {},
   "outputs": [],
   "source": [
    "# model\n",
    "from src.EEGModalNet.models.common import ResidualBlock\n",
    "import keras\n",
    "from keras import layers\n",
    "from keras import regularizers\n",
    "l2_lambda = 0.01\n",
    "dropout_rate = 0.2\n",
    "\n",
    "class Critic(keras.Model):\n",
    "    def __init__(self, time_dim, feature_dim, use_sublayer, n_classes=3):\n",
    "        super(Critic, self).__init__()\n",
    "\n",
    "        self.input_shape = (time_dim, feature_dim)\n",
    "        self.use_sublayer = use_sublayer\n",
    "\n",
    "        self.model = keras.Sequential([\n",
    "            keras.Input(shape=self.input_shape),\n",
    "            ResidualBlock(feature_dim * 4, 5, activation='relu'),\n",
    "            layers.Conv1D(2, 5, padding='same', activation='relu', name='conv3', kernel_regularizer=regularizers.L2(l2_lambda)),\n",
    "            layers.Conv1D(1, 5, padding='same', activation='relu', name='conv4', kernel_regularizer=regularizers.L2(l2_lambda)),\n",
    "            layers.Flatten(name='dis_flatten'),\n",
    "            layers.Dense(512, name='dis_dense1', activation='relu', kernel_regularizer=regularizers.L2(l2_lambda)),\n",
    "            layers.Dropout(dropout_rate),\n",
    "            layers.Dense(128, name='dis_dense2', activation='relu', kernel_regularizer=regularizers.L2(l2_lambda)),\n",
    "            layers.Dropout(dropout_rate),\n",
    "            layers.Dense(32, name='dis_dense3', activation='relu', kernel_regularizer=regularizers.L2(l2_lambda)),\n",
    "            layers.Dropout(dropout_rate),\n",
    "            layers.Dense(8, name='dis_dense4', activation='relu', kernel_regularizer=regularizers.L2(l2_lambda)),\n",
    "            layers.Dropout(dropout_rate),\n",
    "            layers.Dense(n_classes, name='softmax', activation='sigmoid', kernel_regularizer=regularizers.L2(l2_lambda))\n",
    "        ], name='critic')\n",
    "    \n",
    "    def call(self, inputs):\n",
    "        return self.model(inputs)\n",
    "\n",
    "def build_model(n_classes=3):\n",
    "    model = Critic(time_dim=512, feature_dim=len(channels), use_sublayer=False, n_classes=n_classes)\n",
    "\n",
    "    model.compile(optimizer=keras.optimizers.Adam(learning_rate=0.001), loss='categorical_crossentropy', metrics=['accuracy'])\n",
    "    return model"
   ]
  },
  {
   "cell_type": "code",
   "execution_count": 39,
   "metadata": {},
   "outputs": [
    {
     "name": "stdout",
     "output_type": "stream",
     "text": [
      "Epoch 1/20\n",
      "\u001b[1m130/130\u001b[0m \u001b[32m━━━━━━━━━━━━━━━━━━━━\u001b[0m\u001b[37m\u001b[0m \u001b[1m8s\u001b[0m 63ms/step - accuracy: 0.9664 - loss: 0.2544 - val_accuracy: 0.6403 - val_loss: 2.6619\n",
      "Epoch 2/20\n",
      "\u001b[1m130/130\u001b[0m \u001b[32m━━━━━━━━━━━━━━━━━━━━\u001b[0m\u001b[37m\u001b[0m \u001b[1m8s\u001b[0m 62ms/step - accuracy: 0.9712 - loss: 0.2447 - val_accuracy: 0.6569 - val_loss: 2.8474\n",
      "Epoch 3/20\n",
      "\u001b[1m130/130\u001b[0m \u001b[32m━━━━━━━━━━━━━━━━━━━━\u001b[0m\u001b[37m\u001b[0m \u001b[1m8s\u001b[0m 63ms/step - accuracy: 0.9772 - loss: 0.2297 - val_accuracy: 0.6617 - val_loss: 2.7019\n",
      "Epoch 4/20\n",
      "\u001b[1m130/130\u001b[0m \u001b[32m━━━━━━━━━━━━━━━━━━━━\u001b[0m\u001b[37m\u001b[0m \u001b[1m8s\u001b[0m 64ms/step - accuracy: 0.9738 - loss: 0.2357 - val_accuracy: 0.6307 - val_loss: 3.2669\n",
      "Epoch 5/20\n",
      "\u001b[1m130/130\u001b[0m \u001b[32m━━━━━━━━━━━━━━━━━━━━\u001b[0m\u001b[37m\u001b[0m \u001b[1m8s\u001b[0m 63ms/step - accuracy: 0.9668 - loss: 0.2482 - val_accuracy: 0.6486 - val_loss: 2.7542\n",
      "Epoch 6/20\n",
      "\u001b[1m130/130\u001b[0m \u001b[32m━━━━━━━━━━━━━━━━━━━━\u001b[0m\u001b[37m\u001b[0m \u001b[1m8s\u001b[0m 63ms/step - accuracy: 0.9700 - loss: 0.2397 - val_accuracy: 0.6560 - val_loss: 2.5738\n",
      "Epoch 7/20\n",
      "\u001b[1m130/130\u001b[0m \u001b[32m━━━━━━━━━━━━━━━━━━━━\u001b[0m\u001b[37m\u001b[0m \u001b[1m8s\u001b[0m 63ms/step - accuracy: 0.9716 - loss: 0.2351 - val_accuracy: 0.6530 - val_loss: 2.8160\n",
      "Epoch 8/20\n",
      "\u001b[1m130/130\u001b[0m \u001b[32m━━━━━━━━━━━━━━━━━━━━\u001b[0m\u001b[37m\u001b[0m \u001b[1m8s\u001b[0m 63ms/step - accuracy: 0.9731 - loss: 0.2350 - val_accuracy: 0.6604 - val_loss: 2.6201\n",
      "Epoch 9/20\n",
      "\u001b[1m130/130\u001b[0m \u001b[32m━━━━━━━━━━━━━━━━━━━━\u001b[0m\u001b[37m\u001b[0m \u001b[1m8s\u001b[0m 62ms/step - accuracy: 0.9708 - loss: 0.2348 - val_accuracy: 0.6298 - val_loss: 2.9392\n",
      "Epoch 10/20\n",
      "\u001b[1m130/130\u001b[0m \u001b[32m━━━━━━━━━━━━━━━━━━━━\u001b[0m\u001b[37m\u001b[0m \u001b[1m8s\u001b[0m 62ms/step - accuracy: 0.9768 - loss: 0.2204 - val_accuracy: 0.6560 - val_loss: 2.8727\n",
      "Epoch 11/20\n",
      "\u001b[1m130/130\u001b[0m \u001b[32m━━━━━━━━━━━━━━━━━━━━\u001b[0m\u001b[37m\u001b[0m \u001b[1m8s\u001b[0m 62ms/step - accuracy: 0.9757 - loss: 0.2230 - val_accuracy: 0.6136 - val_loss: 3.2108\n",
      "Epoch 12/20\n",
      "\u001b[1m130/130\u001b[0m \u001b[32m━━━━━━━━━━━━━━━━━━━━\u001b[0m\u001b[37m\u001b[0m \u001b[1m8s\u001b[0m 62ms/step - accuracy: 0.9693 - loss: 0.2318 - val_accuracy: 0.6193 - val_loss: 3.0154\n",
      "Epoch 13/20\n",
      "\u001b[1m130/130\u001b[0m \u001b[32m━━━━━━━━━━━━━━━━━━━━\u001b[0m\u001b[37m\u001b[0m \u001b[1m8s\u001b[0m 63ms/step - accuracy: 0.9655 - loss: 0.2453 - val_accuracy: 0.6224 - val_loss: 3.1187\n",
      "Epoch 14/20\n",
      "\u001b[1m130/130\u001b[0m \u001b[32m━━━━━━━━━━━━━━━━━━━━\u001b[0m\u001b[37m\u001b[0m \u001b[1m8s\u001b[0m 62ms/step - accuracy: 0.9764 - loss: 0.2201 - val_accuracy: 0.6237 - val_loss: 2.9440\n",
      "Epoch 15/20\n",
      "\u001b[1m130/130\u001b[0m \u001b[32m━━━━━━━━━━━━━━━━━━━━\u001b[0m\u001b[37m\u001b[0m \u001b[1m8s\u001b[0m 63ms/step - accuracy: 0.9756 - loss: 0.2152 - val_accuracy: 0.6399 - val_loss: 2.7240\n",
      "Epoch 16/20\n",
      "\u001b[1m130/130\u001b[0m \u001b[32m━━━━━━━━━━━━━━━━━━━━\u001b[0m\u001b[37m\u001b[0m \u001b[1m8s\u001b[0m 63ms/step - accuracy: 0.9729 - loss: 0.2240 - val_accuracy: 0.6508 - val_loss: 2.7560\n",
      "Epoch 17/20\n",
      "\u001b[1m130/130\u001b[0m \u001b[32m━━━━━━━━━━━━━━━━━━━━\u001b[0m\u001b[37m\u001b[0m \u001b[1m8s\u001b[0m 63ms/step - accuracy: 0.9797 - loss: 0.2066 - val_accuracy: 0.6455 - val_loss: 3.0561\n",
      "Epoch 18/20\n",
      "\u001b[1m130/130\u001b[0m \u001b[32m━━━━━━━━━━━━━━━━━━━━\u001b[0m\u001b[37m\u001b[0m \u001b[1m8s\u001b[0m 63ms/step - accuracy: 0.9779 - loss: 0.2089 - val_accuracy: 0.6224 - val_loss: 3.2079\n",
      "Epoch 19/20\n",
      "\u001b[1m130/130\u001b[0m \u001b[32m━━━━━━━━━━━━━━━━━━━━\u001b[0m\u001b[37m\u001b[0m \u001b[1m8s\u001b[0m 63ms/step - accuracy: 0.9703 - loss: 0.2270 - val_accuracy: 0.6490 - val_loss: 2.7654\n",
      "Epoch 20/20\n",
      "\u001b[1m130/130\u001b[0m \u001b[32m━━━━━━━━━━━━━━━━━━━━\u001b[0m\u001b[37m\u001b[0m \u001b[1m8s\u001b[0m 63ms/step - accuracy: 0.9763 - loss: 0.2115 - val_accuracy: 0.6512 - val_loss: 2.9198\n"
     ]
    }
   ],
   "source": [
    "n_epochs = 20\n",
    "if cross_val:\n",
    "    all_val_acc = []\n",
    "    all_acc = []\n",
    "    all_loss = []\n",
    "    all_val_loss = []\n",
    "\n",
    "    for i in range(n_splits):\n",
    "        print(f'>>>>>> Fold {i+1}')\n",
    "        model = build_model()\n",
    "        train_idx, val_idx = train_val_splits[i]\n",
    "        history = model.fit(X_input_hyp[train_idx].flatten(0, 1), y[train_idx].flatten(0, 1),\n",
    "                            epochs=n_epochs,\n",
    "                            batch_size=64,\n",
    "                            validation_data=(X_input_hyp[val_idx].flatten(0, 1), y[val_idx].flatten(0, 1)))\n",
    "\n",
    "        all_val_acc.append(history.history['val_accuracy'])\n",
    "        all_acc.append(history.history['accuracy'])\n",
    "        all_loss.append(history.history['loss'])\n",
    "        all_val_loss.append(history.history['val_loss'])\n",
    "\n",
    "        # # save the model\n",
    "        # model.save(f'data/trainings/training_19092024/cv/model_{i+1}.model.keras')\n",
    "\n",
    "else:\n",
    "    model = build_model()\n",
    "    history = model.fit(X_input_hyp[train_idx].flatten(0, 1), y[train_idx].flatten(0, 1),\n",
    "                        epochs=n_epochs,\n",
    "                        batch_size=64,\n",
    "                        validation_data=(X_input_hyp[val_idx].flatten(0, 1), y[val_idx].flatten(0, 1)))"
   ]
  },
  {
   "cell_type": "code",
   "execution_count": 40,
   "metadata": {},
   "outputs": [
    {
     "name": "stdout",
     "output_type": "stream",
     "text": [
      "\u001b[1m72/72\u001b[0m \u001b[32m━━━━━━━━━━━━━━━━━━━━\u001b[0m\u001b[37m\u001b[0m \u001b[1m1s\u001b[0m 8ms/step\n",
      "              precision    recall  f1-score   support\n",
      "\n",
      "           0       0.43      0.51      0.46       312\n",
      "           1       0.73      0.78      0.75      1456\n",
      "           2       0.55      0.37      0.44       520\n",
      "\n",
      "    accuracy                           0.65      2288\n",
      "   macro avg       0.57      0.55      0.55      2288\n",
      "weighted avg       0.65      0.65      0.64      2288\n",
      "\n"
     ]
    }
   ],
   "source": [
    "# check the recall, and F scores in the validation set for each class\n",
    "from sklearn.metrics import classification_report\n",
    "y_pred = model.predict(X_input_hyp[val_idx].flatten(0, 1))\n",
    "y_pred = np.argmax(y_pred, axis=-1)\n",
    "y_true = np.argmax(y[val_idx].flatten(0, 1), axis=-1)\n",
    "print(classification_report(y_true, y_pred))"
   ]
  },
  {
   "cell_type": "code",
   "execution_count": 38,
   "metadata": {},
   "outputs": [
    {
     "data": {
      "text/plain": [
       "<matplotlib.legend.Legend at 0x2f7e4ed10>"
      ]
     },
     "execution_count": 38,
     "metadata": {},
     "output_type": "execute_result"
    },
    {
     "data": {
      "image/png": "[encoded data removed]",
      "text/plain": [
       "<Figure size 640x480 with 1 Axes>"
      ]
     },
     "metadata": {},
     "output_type": "display_data"
    }
   ],
   "source": [
    "plt.figure()\n",
    "plt.plot(history.history['loss'], label='accuracy')\n",
    "plt.plot(history.history['val_loss'], label='val_accuracy')\n",
    "plt.legend()"
   ]
  },
  {
   "cell_type": "code",
   "execution_count": null,
   "metadata": {},
   "outputs": [],
   "source": [
    "y_pred = model.predict(X_input_hyp[val_idx].flatten(0, 1))\n",
    "y_pred = y_pred > 0.5\n",
    "y_pred = y_pred.astype(int)\n",
    "all(y_pred.squeeze() == y[val_idx].flatten(0, 1))"
   ]
  },
  {
   "cell_type": "code",
   "execution_count": 37,
   "metadata": {},
   "outputs": [],
   "source": [
    "# save model & model config\n",
    "model_path = 'data/trainings/training_19092024/'\n",
    "model_name = 'HD_classify_'+ '8_channels'\n",
    "model.save(model_path+f'{model_name}.model.keras')\n",
    "model_config = model.model.get_config()\n",
    "import json\n",
    "with open(f'{model_name}_config.json', 'w') as f:\n",
    "    json.dump(model_config, f)"
   ]
  },
  {
   "cell_type": "code",
   "execution_count": 123,
   "metadata": {},
   "outputs": [],
   "source": [
    "# results\n",
    "df = pd.read_csv('logs/history.csv', index_col=0)\n",
    "df2 = pd.read_csv('logs/history_last3folds.csv', index_col=0).iloc[300:600]\n",
    "\n",
    "df = df.drop(df.index[-1000:])\n",
    "\n",
    "df_new = pd.DataFrame()\n",
    "\n",
    "for i in range(3):\n",
    "    df_new = pd.concat([df_new, df.iloc[i*500:i*500+300]], axis=0)\n",
    "\n",
    "df_new = pd.concat([df_new, df2], axis=0).reset_index(drop=True)"
   ]
  },
  {
   "cell_type": "code",
   "execution_count": 141,
   "metadata": {},
   "outputs": [
    {
     "data": {
      "text/plain": [
       "Text(0.5, 1.0, 'Cross-Validated Accuracy Distribution')"
      ]
     },
     "execution_count": 141,
     "metadata": {},
     "output_type": "execute_result"
    },
    {
     "data": {
      "image/png": "[encoded data removed]",
      "text/plain": [
       "<Figure size 640x480 with 1 Axes>"
      ]
     },
     "metadata": {},
     "output_type": "display_data"
    }
   ],
   "source": [
    "import seaborn as sns\n",
    "sns.set_theme(style='darkgrid')\n",
    "sns.histplot(df_new['val_accuracy'], bins=20, kde=True, color='r', label='Validation Accuracy')\n",
    "# plot a vertical line at the mean.\n",
    "plt.axvline(df_new['val_accuracy'].mean(), color='b', linestyle='dashed', linewidth=2)\n",
    "# add the mean value to the plot.\n",
    "plt.text(df_new['val_accuracy'].mean() + 0.01, 10, f'Mean: {df_new[\"val_accuracy\"].mean():.2f}', rotation=90, color='b', fontsize=14)\n",
    "plt.title('Cross-Validated Accuracy Distribution')"
   ]
  },
  {
   "cell_type": "markdown",
   "metadata": {},
   "source": [
    "## Use Ordinal regression"
   ]
  },
  {
   "cell_type": "code",
   "execution_count": null,
   "metadata": {},
   "outputs": [],
   "source": [
    "# custom loss function for ranking learning\n",
    "from keras import ops\n",
    "def ordinal_loss(y_true, y_pred):\n",
    "    \"\"\"\n",
    "    Custom loss function for ordinal regression. This applies binary cross-entropy\n",
    "    to each threshold-based output (y_pred is the sigmoid-activated thresholds).\n",
    "    \"\"\"\n",
    "    y_true = ops.cast(y_true, dtype='float32')\n",
    "    \n",
    "    # # Create the binary labels for each threshold (k)\n",
    "    # thresholds = [ops.less_equal(y_true, k) for k in range(10)]  # Change 10 based on your thresholds\n",
    "    # thresholds = ops.stack(thresholds, axis=-1)\n",
    "\n",
    "    # Binary cross-entropy loss for each threshold\n",
    "    return ops.mean(ops.binary_crossentropy(y_true, y_pred))\n",
    "\n",
    "y_true = y_transformed[val_idx].flatten(0, 1)\n",
    "# y_true = torch.tensor(y).reshape(-1, 1).repeat(1, X_input_hyp.shape[1])\n",
    "# y_true = y_true[val_idx].flatten(0, 1)\n",
    "ordinal_loss(y_true, y_pred)"
   ]
  },
  {
   "cell_type": "code",
   "execution_count": 19,
   "metadata": {},
   "outputs": [
    {
     "data": {
      "text/html": [
       "<pre style=\"white-space:pre;overflow-x:auto;line-height:normal;font-family:Menlo,'DejaVu Sans Mono',consolas,'Courier New',monospace\"><span style=\"font-weight: bold\">Model: \"critic\"</span>\n",
       "</pre>\n"
      ],
      "text/plain": [
       "\u001b[1mModel: \"critic\"\u001b[0m\n"
      ]
     },
     "metadata": {},
     "output_type": "display_data"
    },
    {
     "data": {
      "text/html": [
       "<pre style=\"white-space:pre;overflow-x:auto;line-height:normal;font-family:Menlo,'DejaVu Sans Mono',consolas,'Courier New',monospace\">┏━━━━━━━━━━━━━━━━━━━━━━━━━━━━━━━━━┳━━━━━━━━━━━━━━━━━━━━━━━━┳━━━━━━━━━━━━━━━┓\n",
       "┃<span style=\"font-weight: bold\"> Layer (type)                    </span>┃<span style=\"font-weight: bold\"> Output Shape           </span>┃<span style=\"font-weight: bold\">       Param # </span>┃\n",
       "┡━━━━━━━━━━━━━━━━━━━━━━━━━━━━━━━━━╇━━━━━━━━━━━━━━━━━━━━━━━━╇━━━━━━━━━━━━━━━┩\n",
       "│ residual_block_5                │ (<span style=\"color: #00d7ff; text-decoration-color: #00d7ff\">None</span>, <span style=\"color: #00af00; text-decoration-color: #00af00\">512</span>, <span style=\"color: #00af00; text-decoration-color: #00af00\">12</span>)        │        <span style=\"color: #00af00; text-decoration-color: #00af00\">10,164</span> │\n",
       "│ (<span style=\"color: #0087ff; text-decoration-color: #0087ff\">ResidualBlock</span>)                 │                        │               │\n",
       "├─────────────────────────────────┼────────────────────────┼───────────────┤\n",
       "│ conv3 (<span style=\"color: #0087ff; text-decoration-color: #0087ff\">Conv1D</span>)                  │ (<span style=\"color: #00d7ff; text-decoration-color: #00d7ff\">None</span>, <span style=\"color: #00af00; text-decoration-color: #00af00\">512</span>, <span style=\"color: #00af00; text-decoration-color: #00af00\">2</span>)         │           <span style=\"color: #00af00; text-decoration-color: #00af00\">122</span> │\n",
       "├─────────────────────────────────┼────────────────────────┼───────────────┤\n",
       "│ conv4 (<span style=\"color: #0087ff; text-decoration-color: #0087ff\">Conv1D</span>)                  │ (<span style=\"color: #00d7ff; text-decoration-color: #00d7ff\">None</span>, <span style=\"color: #00af00; text-decoration-color: #00af00\">512</span>, <span style=\"color: #00af00; text-decoration-color: #00af00\">1</span>)         │            <span style=\"color: #00af00; text-decoration-color: #00af00\">11</span> │\n",
       "├─────────────────────────────────┼────────────────────────┼───────────────┤\n",
       "│ dis_flatten (<span style=\"color: #0087ff; text-decoration-color: #0087ff\">Flatten</span>)           │ (<span style=\"color: #00d7ff; text-decoration-color: #00d7ff\">None</span>, <span style=\"color: #00af00; text-decoration-color: #00af00\">512</span>)            │             <span style=\"color: #00af00; text-decoration-color: #00af00\">0</span> │\n",
       "├─────────────────────────────────┼────────────────────────┼───────────────┤\n",
       "│ dis_dense1 (<span style=\"color: #0087ff; text-decoration-color: #0087ff\">Dense</span>)              │ (<span style=\"color: #00d7ff; text-decoration-color: #00d7ff\">None</span>, <span style=\"color: #00af00; text-decoration-color: #00af00\">512</span>)            │       <span style=\"color: #00af00; text-decoration-color: #00af00\">262,656</span> │\n",
       "├─────────────────────────────────┼────────────────────────┼───────────────┤\n",
       "│ dropout_20 (<span style=\"color: #0087ff; text-decoration-color: #0087ff\">Dropout</span>)            │ (<span style=\"color: #00d7ff; text-decoration-color: #00d7ff\">None</span>, <span style=\"color: #00af00; text-decoration-color: #00af00\">512</span>)            │             <span style=\"color: #00af00; text-decoration-color: #00af00\">0</span> │\n",
       "├─────────────────────────────────┼────────────────────────┼───────────────┤\n",
       "│ dis_dense2 (<span style=\"color: #0087ff; text-decoration-color: #0087ff\">Dense</span>)              │ (<span style=\"color: #00d7ff; text-decoration-color: #00d7ff\">None</span>, <span style=\"color: #00af00; text-decoration-color: #00af00\">128</span>)            │        <span style=\"color: #00af00; text-decoration-color: #00af00\">65,664</span> │\n",
       "├─────────────────────────────────┼────────────────────────┼───────────────┤\n",
       "│ dropout_21 (<span style=\"color: #0087ff; text-decoration-color: #0087ff\">Dropout</span>)            │ (<span style=\"color: #00d7ff; text-decoration-color: #00d7ff\">None</span>, <span style=\"color: #00af00; text-decoration-color: #00af00\">128</span>)            │             <span style=\"color: #00af00; text-decoration-color: #00af00\">0</span> │\n",
       "├─────────────────────────────────┼────────────────────────┼───────────────┤\n",
       "│ dis_dense3 (<span style=\"color: #0087ff; text-decoration-color: #0087ff\">Dense</span>)              │ (<span style=\"color: #00d7ff; text-decoration-color: #00d7ff\">None</span>, <span style=\"color: #00af00; text-decoration-color: #00af00\">32</span>)             │         <span style=\"color: #00af00; text-decoration-color: #00af00\">4,128</span> │\n",
       "├─────────────────────────────────┼────────────────────────┼───────────────┤\n",
       "│ dropout_22 (<span style=\"color: #0087ff; text-decoration-color: #0087ff\">Dropout</span>)            │ (<span style=\"color: #00d7ff; text-decoration-color: #00d7ff\">None</span>, <span style=\"color: #00af00; text-decoration-color: #00af00\">32</span>)             │             <span style=\"color: #00af00; text-decoration-color: #00af00\">0</span> │\n",
       "├─────────────────────────────────┼────────────────────────┼───────────────┤\n",
       "│ dis_dense4 (<span style=\"color: #0087ff; text-decoration-color: #0087ff\">Dense</span>)              │ (<span style=\"color: #00d7ff; text-decoration-color: #00d7ff\">None</span>, <span style=\"color: #00af00; text-decoration-color: #00af00\">8</span>)              │           <span style=\"color: #00af00; text-decoration-color: #00af00\">264</span> │\n",
       "├─────────────────────────────────┼────────────────────────┼───────────────┤\n",
       "│ dropout_23 (<span style=\"color: #0087ff; text-decoration-color: #0087ff\">Dropout</span>)            │ (<span style=\"color: #00d7ff; text-decoration-color: #00d7ff\">None</span>, <span style=\"color: #00af00; text-decoration-color: #00af00\">8</span>)              │             <span style=\"color: #00af00; text-decoration-color: #00af00\">0</span> │\n",
       "├─────────────────────────────────┼────────────────────────┼───────────────┤\n",
       "│ dense_4 (<span style=\"color: #0087ff; text-decoration-color: #0087ff\">Dense</span>)                 │ (<span style=\"color: #00d7ff; text-decoration-color: #00d7ff\">None</span>, <span style=\"color: #00af00; text-decoration-color: #00af00\">10</span>)             │            <span style=\"color: #00af00; text-decoration-color: #00af00\">90</span> │\n",
       "├─────────────────────────────────┼────────────────────────┼───────────────┤\n",
       "│ bias_layer_4 (<span style=\"color: #0087ff; text-decoration-color: #0087ff\">BiasLayer</span>)        │ (<span style=\"color: #00d7ff; text-decoration-color: #00d7ff\">None</span>, <span style=\"color: #00af00; text-decoration-color: #00af00\">10</span>)             │            <span style=\"color: #00af00; text-decoration-color: #00af00\">10</span> │\n",
       "├─────────────────────────────────┼────────────────────────┼───────────────┤\n",
       "│ activation_8 (<span style=\"color: #0087ff; text-decoration-color: #0087ff\">Activation</span>)       │ (<span style=\"color: #00d7ff; text-decoration-color: #00d7ff\">None</span>, <span style=\"color: #00af00; text-decoration-color: #00af00\">10</span>)             │             <span style=\"color: #00af00; text-decoration-color: #00af00\">0</span> │\n",
       "└─────────────────────────────────┴────────────────────────┴───────────────┘\n",
       "</pre>\n"
      ],
      "text/plain": [
       "┏━━━━━━━━━━━━━━━━━━━━━━━━━━━━━━━━━┳━━━━━━━━━━━━━━━━━━━━━━━━┳━━━━━━━━━━━━━━━┓\n",
       "┃\u001b[1m \u001b[0m\u001b[1mLayer (type)                   \u001b[0m\u001b[1m \u001b[0m┃\u001b[1m \u001b[0m\u001b[1mOutput Shape          \u001b[0m\u001b[1m \u001b[0m┃\u001b[1m \u001b[0m\u001b[1m      Param #\u001b[0m\u001b[1m \u001b[0m┃\n",
       "┡━━━━━━━━━━━━━━━━━━━━━━━━━━━━━━━━━╇━━━━━━━━━━━━━━━━━━━━━━━━╇━━━━━━━━━━━━━━━┩\n",
       "│ residual_block_5                │ (\u001b[38;5;45mNone\u001b[0m, \u001b[38;5;34m512\u001b[0m, \u001b[38;5;34m12\u001b[0m)        │        \u001b[38;5;34m10,164\u001b[0m │\n",
       "│ (\u001b[38;5;33mResidualBlock\u001b[0m)                 │                        │               │\n",
       "├─────────────────────────────────┼────────────────────────┼───────────────┤\n",
       "│ conv3 (\u001b[38;5;33mConv1D\u001b[0m)                  │ (\u001b[38;5;45mNone\u001b[0m, \u001b[38;5;34m512\u001b[0m, \u001b[38;5;34m2\u001b[0m)         │           \u001b[38;5;34m122\u001b[0m │\n",
       "├─────────────────────────────────┼────────────────────────┼───────────────┤\n",
       "│ conv4 (\u001b[38;5;33mConv1D\u001b[0m)                  │ (\u001b[38;5;45mNone\u001b[0m, \u001b[38;5;34m512\u001b[0m, \u001b[38;5;34m1\u001b[0m)         │            \u001b[38;5;34m11\u001b[0m │\n",
       "├─────────────────────────────────┼────────────────────────┼───────────────┤\n",
       "│ dis_flatten (\u001b[38;5;33mFlatten\u001b[0m)           │ (\u001b[38;5;45mNone\u001b[0m, \u001b[38;5;34m512\u001b[0m)            │             \u001b[38;5;34m0\u001b[0m │\n",
       "├─────────────────────────────────┼────────────────────────┼───────────────┤\n",
       "│ dis_dense1 (\u001b[38;5;33mDense\u001b[0m)              │ (\u001b[38;5;45mNone\u001b[0m, \u001b[38;5;34m512\u001b[0m)            │       \u001b[38;5;34m262,656\u001b[0m │\n",
       "├─────────────────────────────────┼────────────────────────┼───────────────┤\n",
       "│ dropout_20 (\u001b[38;5;33mDropout\u001b[0m)            │ (\u001b[38;5;45mNone\u001b[0m, \u001b[38;5;34m512\u001b[0m)            │             \u001b[38;5;34m0\u001b[0m │\n",
       "├─────────────────────────────────┼────────────────────────┼───────────────┤\n",
       "│ dis_dense2 (\u001b[38;5;33mDense\u001b[0m)              │ (\u001b[38;5;45mNone\u001b[0m, \u001b[38;5;34m128\u001b[0m)            │        \u001b[38;5;34m65,664\u001b[0m │\n",
       "├─────────────────────────────────┼────────────────────────┼───────────────┤\n",
       "│ dropout_21 (\u001b[38;5;33mDropout\u001b[0m)            │ (\u001b[38;5;45mNone\u001b[0m, \u001b[38;5;34m128\u001b[0m)            │             \u001b[38;5;34m0\u001b[0m │\n",
       "├─────────────────────────────────┼────────────────────────┼───────────────┤\n",
       "│ dis_dense3 (\u001b[38;5;33mDense\u001b[0m)              │ (\u001b[38;5;45mNone\u001b[0m, \u001b[38;5;34m32\u001b[0m)             │         \u001b[38;5;34m4,128\u001b[0m │\n",
       "├─────────────────────────────────┼────────────────────────┼───────────────┤\n",
       "│ dropout_22 (\u001b[38;5;33mDropout\u001b[0m)            │ (\u001b[38;5;45mNone\u001b[0m, \u001b[38;5;34m32\u001b[0m)             │             \u001b[38;5;34m0\u001b[0m │\n",
       "├─────────────────────────────────┼────────────────────────┼───────────────┤\n",
       "│ dis_dense4 (\u001b[38;5;33mDense\u001b[0m)              │ (\u001b[38;5;45mNone\u001b[0m, \u001b[38;5;34m8\u001b[0m)              │           \u001b[38;5;34m264\u001b[0m │\n",
       "├─────────────────────────────────┼────────────────────────┼───────────────┤\n",
       "│ dropout_23 (\u001b[38;5;33mDropout\u001b[0m)            │ (\u001b[38;5;45mNone\u001b[0m, \u001b[38;5;34m8\u001b[0m)              │             \u001b[38;5;34m0\u001b[0m │\n",
       "├─────────────────────────────────┼────────────────────────┼───────────────┤\n",
       "│ dense_4 (\u001b[38;5;33mDense\u001b[0m)                 │ (\u001b[38;5;45mNone\u001b[0m, \u001b[38;5;34m10\u001b[0m)             │            \u001b[38;5;34m90\u001b[0m │\n",
       "├─────────────────────────────────┼────────────────────────┼───────────────┤\n",
       "│ bias_layer_4 (\u001b[38;5;33mBiasLayer\u001b[0m)        │ (\u001b[38;5;45mNone\u001b[0m, \u001b[38;5;34m10\u001b[0m)             │            \u001b[38;5;34m10\u001b[0m │\n",
       "├─────────────────────────────────┼────────────────────────┼───────────────┤\n",
       "│ activation_8 (\u001b[38;5;33mActivation\u001b[0m)       │ (\u001b[38;5;45mNone\u001b[0m, \u001b[38;5;34m10\u001b[0m)             │             \u001b[38;5;34m0\u001b[0m │\n",
       "└─────────────────────────────────┴────────────────────────┴───────────────┘\n"
      ]
     },
     "metadata": {},
     "output_type": "display_data"
    },
    {
     "data": {
      "text/html": [
       "<pre style=\"white-space:pre;overflow-x:auto;line-height:normal;font-family:Menlo,'DejaVu Sans Mono',consolas,'Courier New',monospace\"><span style=\"font-weight: bold\"> Total params: </span><span style=\"color: #00af00; text-decoration-color: #00af00\">343,109</span> (1.31 MB)\n",
       "</pre>\n"
      ],
      "text/plain": [
       "\u001b[1m Total params: \u001b[0m\u001b[38;5;34m343,109\u001b[0m (1.31 MB)\n"
      ]
     },
     "metadata": {},
     "output_type": "display_data"
    },
    {
     "data": {
      "text/html": [
       "<pre style=\"white-space:pre;overflow-x:auto;line-height:normal;font-family:Menlo,'DejaVu Sans Mono',consolas,'Courier New',monospace\"><span style=\"font-weight: bold\"> Trainable params: </span><span style=\"color: #00af00; text-decoration-color: #00af00\">343,109</span> (1.31 MB)\n",
       "</pre>\n"
      ],
      "text/plain": [
       "\u001b[1m Trainable params: \u001b[0m\u001b[38;5;34m343,109\u001b[0m (1.31 MB)\n"
      ]
     },
     "metadata": {},
     "output_type": "display_data"
    },
    {
     "data": {
      "text/html": [
       "<pre style=\"white-space:pre;overflow-x:auto;line-height:normal;font-family:Menlo,'DejaVu Sans Mono',consolas,'Courier New',monospace\"><span style=\"font-weight: bold\"> Non-trainable params: </span><span style=\"color: #00af00; text-decoration-color: #00af00\">0</span> (0.00 B)\n",
       "</pre>\n"
      ],
      "text/plain": [
       "\u001b[1m Non-trainable params: \u001b[0m\u001b[38;5;34m0\u001b[0m (0.00 B)\n"
      ]
     },
     "metadata": {},
     "output_type": "display_data"
    }
   ],
   "source": [
    "from src.EEGModalNet.models.common import ResidualBlock\n",
    "\n",
    "\n",
    "class BiasLayer(keras.layers.Layer):\n",
    "    def __init__(self, units, *args, **kwargs):\n",
    "        super(BiasLayer, self).__init__(*args, **kwargs)\n",
    "        self.bias = self.add_weight(shape=[units],\n",
    "                                    initializer='zeros',\n",
    "                                    trainable=True)\n",
    "\n",
    "    def call(self, x):\n",
    "        return x + self.bias\n",
    "\n",
    "dropout_rate = 0.1\n",
    "class Critic(keras.Model):\n",
    "    def __init__(self, time_dim, feature_dim, use_sublayer, num_classes=10):\n",
    "        super(Critic, self).__init__()\n",
    "\n",
    "        self.input_shape = (time_dim, feature_dim)\n",
    "        self.use_sublayer = use_sublayer\n",
    "\n",
    "        self.model = keras.Sequential([\n",
    "            keras.Input(shape=self.input_shape),\n",
    "            ResidualBlock(feature_dim * 4, 5, activation='relu'),\n",
    "            layers.Conv1D(2, 5, padding='same', activation='relu', name='conv3', kernel_regularizer=regularizers.L2(l2_lambda)),\n",
    "            layers.Conv1D(1, 5, padding='same', activation='relu', name='conv4', kernel_regularizer=regularizers.L2(l2_lambda)),\n",
    "            layers.Flatten(name='dis_flatten'),\n",
    "            layers.Dense(512, name='dis_dense1', activation='relu', kernel_regularizer=regularizers.L2(l2_lambda)),\n",
    "            layers.Dropout(dropout_rate),\n",
    "            layers.Dense(128, name='dis_dense2', activation='relu', kernel_regularizer=regularizers.L2(l2_lambda)),\n",
    "            layers.Dropout(dropout_rate),\n",
    "            layers.Dense(32, name='dis_dense3', activation='relu', kernel_regularizer=regularizers.L2(l2_lambda)),\n",
    "            layers.Dropout(dropout_rate),\n",
    "            layers.Dense(8, name='dis_dense4', activation='relu', kernel_regularizer=regularizers.L2(l2_lambda)),\n",
    "            layers.Dropout(dropout_rate),\n",
    "            layers.Dense(num_classes),\n",
    "            BiasLayer(num_classes),\n",
    "            layers.Activation('sigmoid')\n",
    "        ], name='critic')\n",
    "    \n",
    "    def call(self, inputs):\n",
    "        return self.model(inputs)\n",
    "\n",
    "model = Critic(time_dim=512, feature_dim=len(channels), use_sublayer=False)\n",
    "model.compile(optimizer='adam', loss='binary_crossentropy', metrics=['accuracy'])\n",
    "model.model.summary()\n",
    "# y_pred = model.predict(X_input_hyp[train_idx].flatten(0, 1))"
   ]
  },
  {
   "cell_type": "code",
   "execution_count": 20,
   "metadata": {},
   "outputs": [
    {
     "name": "stdout",
     "output_type": "stream",
     "text": [
      "Epoch 1/20\n",
      "\u001b[1m130/130\u001b[0m \u001b[32m━━━━━━━━━━━━━━━━━━━━\u001b[0m\u001b[37m\u001b[0m \u001b[1m9s\u001b[0m 64ms/step - accuracy: 0.9711 - loss: 4.1429 - val_accuracy: 1.0000 - val_loss: 0.6531\n",
      "Epoch 2/20\n",
      "\u001b[1m130/130\u001b[0m \u001b[32m━━━━━━━━━━━━━━━━━━━━\u001b[0m\u001b[37m\u001b[0m \u001b[1m8s\u001b[0m 61ms/step - accuracy: 1.0000 - loss: 0.6440 - val_accuracy: 1.0000 - val_loss: 0.5363\n",
      "Epoch 3/20\n",
      "\u001b[1m130/130\u001b[0m \u001b[32m━━━━━━━━━━━━━━━━━━━━\u001b[0m\u001b[37m\u001b[0m \u001b[1m8s\u001b[0m 61ms/step - accuracy: 1.0000 - loss: 0.5671 - val_accuracy: 1.0000 - val_loss: 0.4980\n",
      "Epoch 4/20\n",
      "\u001b[1m130/130\u001b[0m \u001b[32m━━━━━━━━━━━━━━━━━━━━\u001b[0m\u001b[37m\u001b[0m \u001b[1m8s\u001b[0m 61ms/step - accuracy: 1.0000 - loss: 0.5523 - val_accuracy: 1.0000 - val_loss: 0.5057\n",
      "Epoch 5/20\n",
      "\u001b[1m130/130\u001b[0m \u001b[32m━━━━━━━━━━━━━━━━━━━━\u001b[0m\u001b[37m\u001b[0m \u001b[1m8s\u001b[0m 61ms/step - accuracy: 1.0000 - loss: 0.5434 - val_accuracy: 1.0000 - val_loss: 0.4870\n",
      "Epoch 6/20\n",
      "\u001b[1m130/130\u001b[0m \u001b[32m━━━━━━━━━━━━━━━━━━━━\u001b[0m\u001b[37m\u001b[0m \u001b[1m8s\u001b[0m 61ms/step - accuracy: 1.0000 - loss: 0.5394 - val_accuracy: 1.0000 - val_loss: 0.4841\n",
      "Epoch 7/20\n",
      "\u001b[1m130/130\u001b[0m \u001b[32m━━━━━━━━━━━━━━━━━━━━\u001b[0m\u001b[37m\u001b[0m \u001b[1m9s\u001b[0m 65ms/step - accuracy: 1.0000 - loss: 0.5376 - val_accuracy: 1.0000 - val_loss: 0.4849\n",
      "Epoch 8/20\n",
      "\u001b[1m130/130\u001b[0m \u001b[32m━━━━━━━━━━━━━━━━━━━━\u001b[0m\u001b[37m\u001b[0m \u001b[1m8s\u001b[0m 62ms/step - accuracy: 1.0000 - loss: 0.5402 - val_accuracy: 1.0000 - val_loss: 0.4789\n",
      "Epoch 9/20\n",
      "\u001b[1m130/130\u001b[0m \u001b[32m━━━━━━━━━━━━━━━━━━━━\u001b[0m\u001b[37m\u001b[0m \u001b[1m8s\u001b[0m 61ms/step - accuracy: 1.0000 - loss: 0.5392 - val_accuracy: 1.0000 - val_loss: 0.4834\n",
      "Epoch 10/20\n",
      "\u001b[1m130/130\u001b[0m \u001b[32m━━━━━━━━━━━━━━━━━━━━\u001b[0m\u001b[37m\u001b[0m \u001b[1m8s\u001b[0m 62ms/step - accuracy: 1.0000 - loss: 0.5306 - val_accuracy: 1.0000 - val_loss: 0.4794\n",
      "Epoch 11/20\n",
      "\u001b[1m130/130\u001b[0m \u001b[32m━━━━━━━━━━━━━━━━━━━━\u001b[0m\u001b[37m\u001b[0m \u001b[1m8s\u001b[0m 61ms/step - accuracy: 1.0000 - loss: 0.5330 - val_accuracy: 1.0000 - val_loss: 0.4758\n",
      "Epoch 12/20\n",
      "\u001b[1m130/130\u001b[0m \u001b[32m━━━━━━━━━━━━━━━━━━━━\u001b[0m\u001b[37m\u001b[0m \u001b[1m8s\u001b[0m 61ms/step - accuracy: 1.0000 - loss: 0.5325 - val_accuracy: 1.0000 - val_loss: 0.4774\n",
      "Epoch 13/20\n",
      "\u001b[1m130/130\u001b[0m \u001b[32m━━━━━━━━━━━━━━━━━━━━\u001b[0m\u001b[37m\u001b[0m \u001b[1m8s\u001b[0m 60ms/step - accuracy: 1.0000 - loss: 0.5334 - val_accuracy: 1.0000 - val_loss: 0.4757\n",
      "Epoch 14/20\n",
      "\u001b[1m130/130\u001b[0m \u001b[32m━━━━━━━━━━━━━━━━━━━━\u001b[0m\u001b[37m\u001b[0m \u001b[1m8s\u001b[0m 61ms/step - accuracy: 1.0000 - loss: 0.5267 - val_accuracy: 1.0000 - val_loss: 0.4774\n",
      "Epoch 15/20\n",
      "\u001b[1m130/130\u001b[0m \u001b[32m━━━━━━━━━━━━━━━━━━━━\u001b[0m\u001b[37m\u001b[0m \u001b[1m8s\u001b[0m 61ms/step - accuracy: 1.0000 - loss: 0.5267 - val_accuracy: 1.0000 - val_loss: 0.4761\n",
      "Epoch 16/20\n",
      "\u001b[1m130/130\u001b[0m \u001b[32m━━━━━━━━━━━━━━━━━━━━\u001b[0m\u001b[37m\u001b[0m \u001b[1m8s\u001b[0m 61ms/step - accuracy: 1.0000 - loss: 0.5302 - val_accuracy: 1.0000 - val_loss: 0.4765\n",
      "Epoch 17/20\n",
      "\u001b[1m130/130\u001b[0m \u001b[32m━━━━━━━━━━━━━━━━━━━━\u001b[0m\u001b[37m\u001b[0m \u001b[1m8s\u001b[0m 61ms/step - accuracy: 1.0000 - loss: 0.5302 - val_accuracy: 1.0000 - val_loss: 0.4734\n",
      "Epoch 18/20\n",
      "\u001b[1m130/130\u001b[0m \u001b[32m━━━━━━━━━━━━━━━━━━━━\u001b[0m\u001b[37m\u001b[0m \u001b[1m8s\u001b[0m 61ms/step - accuracy: 1.0000 - loss: 0.5302 - val_accuracy: 1.0000 - val_loss: 0.4771\n",
      "Epoch 19/20\n",
      "\u001b[1m130/130\u001b[0m \u001b[32m━━━━━━━━━━━━━━━━━━━━\u001b[0m\u001b[37m\u001b[0m \u001b[1m8s\u001b[0m 61ms/step - accuracy: 1.0000 - loss: 0.5255 - val_accuracy: 1.0000 - val_loss: 0.4749\n",
      "Epoch 20/20\n",
      "\u001b[1m130/130\u001b[0m \u001b[32m━━━━━━━━━━━━━━━━━━━━\u001b[0m\u001b[37m\u001b[0m \u001b[1m8s\u001b[0m 62ms/step - accuracy: 1.0000 - loss: 0.5314 - val_accuracy: 1.0000 - val_loss: 0.4749\n"
     ]
    }
   ],
   "source": [
    "# Example training loop\n",
    "history = model.fit(X_input_hyp[train_idx].flatten(0, 1),\n",
    "                    y_transformed[train_idx].flatten(0, 1),\n",
    "                    epochs=20,\n",
    "                    batch_size=64,\n",
    "                    validation_data=(X_input_hyp[val_idx].flatten(0, 1),\n",
    "                                     y_transformed[val_idx].flatten(0, 1)))"
   ]
  },
  {
   "cell_type": "code",
   "execution_count": 139,
   "metadata": {},
   "outputs": [
    {
     "name": "stdout",
     "output_type": "stream",
     "text": [
      "\u001b[1m72/72\u001b[0m \u001b[32m━━━━━━━━━━━━━━━━━━━━\u001b[0m\u001b[37m\u001b[0m \u001b[1m1s\u001b[0m 8ms/step\n"
     ]
    }
   ],
   "source": [
    "y_pred = model.predict(X_input_hyp[val_idx].flatten(0, 1))\n"
   ]
  },
  {
   "cell_type": "markdown",
   "metadata": {},
   "source": [
    "## Interpretablity Techniques"
   ]
  },
  {
   "cell_type": "code",
   "execution_count": 11,
   "metadata": {},
   "outputs": [],
   "source": [
    "# open model\n",
    "model = Critic(time_dim=512, feature_dim=len(channels), use_sublayer=False)\n",
    "model.load_weights('logs/model_2.model.keras')"
   ]
  },
  {
   "cell_type": "code",
   "execution_count": 42,
   "metadata": {},
   "outputs": [],
   "source": [
    "import numpy as np\n",
    "import torch\n",
    "from torch.autograd import grad\n",
    "\n",
    "# Integrated Gradients function\n",
    "def integrated_gradients(model, inputs, target_class, baseline=None, steps=50):\n",
    "    if baseline is None:\n",
    "        # Set the baseline to zero (same shape as input)\n",
    "        baseline = torch.zeros_like(inputs)\n",
    "    \n",
    "    # Scale inputs and compute gradients at each interpolation point\n",
    "    scaled_inputs = [baseline + (float(i) / steps) * (inputs - baseline) for i in range(steps + 1)]\n",
    "    scaled_inputs = torch.stack(scaled_inputs).flatten(0, 1).requires_grad_(True)\n",
    "    \n",
    "    # Initialize attributions\n",
    "    total_gradients = torch.zeros_like(inputs)\n",
    "    \n",
    "    for scaled_input in scaled_inputs:\n",
    "        # Perform forward pass\n",
    "        output = model(scaled_input.unsqueeze(0))  # Add batch dimension\n",
    "        target = output[:, target_class]  # Extract the logit for the target class\n",
    "        \n",
    "        # Compute gradients\n",
    "        grads = grad(target, scaled_input, retain_graph=True)[0]\n",
    "        total_gradients += grads\n",
    "    \n",
    "    # Average gradients over all steps\n",
    "    avg_gradients = total_gradients / steps\n",
    "    \n",
    "    # Compute the attributions\n",
    "    attributions = (inputs - baseline) * avg_gradients\n",
    "    return attributions.detach().cpu().numpy()\n"
   ]
  },
  {
   "cell_type": "code",
   "execution_count": 28,
   "metadata": {},
   "outputs": [
    {
     "name": "stderr",
     "output_type": "stream",
     "text": [
      "/var/folders/pn/qy0qc5tx7t7_97xjmy6pvksc0000gn/T/ipykernel_69344/1547276079.py:2: UserWarning: To copy construct from a tensor, it is recommended to use sourceTensor.clone().detach() or sourceTensor.clone().detach().requires_grad_(True), rather than torch.tensor(sourceTensor).\n",
      "  eeg_sample = torch.tensor(X_input_hyp[train_ids].flatten(0, 1)[sample_idx], dtype=torch.float32).unsqueeze(0)\n"
     ]
    },
    {
     "data": {
      "text/plain": [
       "torch.Size([1, 512, 8])"
      ]
     },
     "execution_count": 28,
     "metadata": {},
     "output_type": "execute_result"
    }
   ],
   "source": [
    "sample_idx = 0\n",
    "eeg_sample = torch.tensor(X_input_hyp[train_ids].flatten(0, 1)[sample_idx], dtype=torch.float32).unsqueeze(0) \n",
    "eeg_sample.shape"
   ]
  },
  {
   "cell_type": "code",
   "execution_count": 64,
   "metadata": {},
   "outputs": [
    {
     "name": "stderr",
     "output_type": "stream",
     "text": [
      "/var/folders/pn/qy0qc5tx7t7_97xjmy6pvksc0000gn/T/ipykernel_69344/3518009999.py:8: UserWarning: To copy construct from a tensor, it is recommended to use sourceTensor.clone().detach() or sourceTensor.clone().detach().requires_grad_(True), rather than torch.tensor(sourceTensor).\n",
      "  eeg_sample = torch.tensor(X_input_hyp[test_ids].flatten(0, 1)[sample_idx], dtype=torch.float32).unsqueeze(0)  # Add batch dimension\n"
     ]
    },
    {
     "data": {
      "image/png": "[encoded data removed]",
      "text/plain": [
       "<Figure size 900x500 with 2 Axes>"
      ]
     },
     "metadata": {},
     "output_type": "display_data"
    }
   ],
   "source": [
    "# Load the Keras model\n",
    "model = Critic(time_dim=512, feature_dim=len(channels), use_sublayer=False)\n",
    "model.load_weights('logs/model_2.model.keras')\n",
    "\n",
    "\n",
    "# Select a sample from your test data\n",
    "sample_idx = 0\n",
    "eeg_sample = torch.tensor(X_input_hyp[test_ids].flatten(0, 1)[sample_idx], dtype=torch.float32).unsqueeze(0)  # Add batch dimension\n",
    "\n",
    "# Call Integrated Gradients function\n",
    "attributions = integrated_gradients(model, eeg_sample, target_class=0)  # Assuming 1 is the hypnotized class\n",
    "\n",
    "# Visualize or interpret the attributions as needed\n",
    "import matplotlib.pyplot as plt\n",
    "import seaborn as sns\n",
    "\n",
    "# Example of visualizing the attributions as a heatmap\n",
    "plt.figure(figsize=(9, 5))\n",
    "sns.heatmap(attributions.squeeze(), cmap='coolwarm', cbar=True)\n",
    "plt.title('Integrated Gradients Attributions for Hypnotized Class')\n",
    "plt.xlabel('EEG Channels')\n",
    "\n",
    "# include the channels labels in the x-axis\n",
    "plt.xticks(ticks=np.arange(len(channels)), labels=channels, rotation=45)\n",
    "plt.ylabel('Timepoints')\n",
    "plt.show()\n"
   ]
  },
  {
   "cell_type": "code",
   "execution_count": null,
   "metadata": {},
   "outputs": [],
   "source": [
    "test_set = X_input_hyp[test_ids].flatten(0, 1)\n",
    "all_attributions = []\n",
    "\n",
    "for sample in test_set[:10]:  # Loop over all EEG samples\n",
    "    attributions = integrated_gradients(model, sample, target_class=0)  # Get attributions for each sample\n",
    "    all_attributions.append(attributions)\n",
    "\n",
    "# Convert the list to a NumPy array for easier averaging\n",
    "all_attributions = np.array(all_attributions)\n",
    "\n",
    "# Average attributions over all samples\n",
    "avg_attributions = np.mean(all_attributions, axis=0)"
   ]
  },
  {
   "cell_type": "markdown",
   "metadata": {},
   "source": [
    "## Gender Classification Using OTKA data"
   ]
  },
  {
   "cell_type": "code",
   "execution_count": 41,
   "metadata": {},
   "outputs": [],
   "source": [
    "# gender data (y)\n",
    "one_hot_encoding = False\n",
    "\n",
    "gender = pd.read_excel('/Users/yeganeh/Codes/SugNet/data/PLB_HYP_data_MASTER.xlsx')[['bids_id', 'gender']].dropna().set_index('bids_id')\n",
    "gender['gender'] = gender['gender'].apply(lambda x: 1 if x == 'Female' else 0)\n",
    "y_ = gender['gender'].values.repeat(4)[:-2]  # repeat for the 4 sessions and remove the last two entries because the last two sessions are missing for the last participant\n",
    "\n",
    "# subject ids for grouped cross validation\n",
    "groups = gender.index.to_numpy() - 1\n",
    "groups = groups.repeat(4)[:-2]"
   ]
  },
  {
   "cell_type": "code",
   "execution_count": 74,
   "metadata": {},
   "outputs": [],
   "source": [
    "# X\n",
    "EEG_data = xr.open_dataarray('data/OTKA/experiment_EEG_data.nc5')\n",
    "\n",
    "n_subject = 52\n",
    "time_dim = 512\n",
    "filtering = True\n",
    "average_channels = True\n",
    "channels = ['Oz', 'Fz', 'Cz', 'Pz', 'Fp1', 'Fp2', 'F1', 'F2']\n",
    "\n",
    "if average_channels:\n",
    "    X_input, channels = get_averaged_data(EEG_data)\n",
    "else:\n",
    "    X_input = EEG_data.sel(subject=EEG_data.subject[:n_subject], channel=channels).to_numpy()\n",
    "\n",
    "# remove placeholder data (zeros) from the missing sessions of the last participant \n",
    "X_input = torch.tensor(X_input).flatten(0, 1)\n",
    "X_sub52_ses4 = X_input[-1].unsqueeze(0)\n",
    "X_input = X_input[:-3]\n",
    "X_input = torch.cat([X_input, X_sub52_ses4], dim=0)\n",
    "\n",
    "# preparing x\n",
    "if filtering:\n",
    "    sos = butter(4, 1, btype='high', fs=128, output='sos')\n",
    "    X_input = sosfilt(sos, np.array(X_input), axis=-1)\n",
    "\n",
    "X_input = torch.tensor(X_input).unfold(-1, time_dim, time_dim).permute(0, 2, 3, 1)"
   ]
  },
  {
   "cell_type": "code",
   "execution_count": 86,
   "metadata": {},
   "outputs": [],
   "source": [
    "# # one hot encoding of the gender data\n",
    "if one_hot_encoding:\n",
    "    y = np.eye(2)[y_].astype(int)\n",
    "    y = torch.tensor(y).reshape(-1, 1, 2).repeat(1, X_input.shape[1], 1)\n",
    "else:\n",
    "    y = torch.tensor(y_).reshape(-1, 1).repeat(1, X_input.shape[1])"
   ]
  },
  {
   "cell_type": "code",
   "execution_count": 87,
   "metadata": {},
   "outputs": [
    {
     "data": {
      "text/plain": [
       "(array([0.2345679, 0.7654321]), array([0.27272727, 0.72727273]))"
      ]
     },
     "execution_count": 87,
     "metadata": {},
     "output_type": "execute_result"
    }
   ],
   "source": [
    "# Train/test split\n",
    "from sklearn.model_selection import StratifiedGroupKFold, GroupShuffleSplit\n",
    "cross_val = False\n",
    "\n",
    "if cross_val:\n",
    "    n_splits = 3\n",
    "    group_kfold = StratifiedGroupKFold(n_splits=n_splits)\n",
    "    train_val_splits = []\n",
    "    for train_idx, val_idx in group_kfold.split(np.array(X_input), y_, groups=groups):\n",
    "        train_val_splits.append((train_idx, val_idx))\n",
    "else:\n",
    "    group_shuffle = GroupShuffleSplit(n_splits=1, test_size=0.2, random_state=2)  \n",
    "    train_idx, val_idx = next(group_shuffle.split(np.array(X_input), y_, groups=groups))\n",
    "\n",
    "np.unique(y[train_idx].flatten(0, 1), return_counts=True)[1] / len(y[train_idx].flatten(0, 1)), np.unique(y[val_idx].flatten(0, 1), return_counts=True)[1] / len(y[val_idx].flatten(0, 1))"
   ]
  },
  {
   "cell_type": "markdown",
   "metadata": {},
   "source": [
    "### model"
   ]
  },
  {
   "cell_type": "code",
   "execution_count": 93,
   "metadata": {},
   "outputs": [],
   "source": [
    "# model\n",
    "from src.EEGModalNet.models.common import ResidualBlock\n",
    "import keras\n",
    "from keras import layers\n",
    "from keras import regularizers\n",
    "l2_lambda = 0.01\n",
    "dropout_rate = 0.5\n",
    "\n",
    "class Critic(keras.Model):\n",
    "    def __init__(self, time_dim, feature_dim, use_sublayer):\n",
    "        super(Critic, self).__init__()\n",
    "\n",
    "        self.input_shape = (time_dim, feature_dim)\n",
    "        self.use_sublayer = use_sublayer\n",
    "\n",
    "        self.model = keras.Sequential([\n",
    "            keras.Input(shape=self.input_shape),\n",
    "            ResidualBlock(feature_dim * 4, 5, activation='relu'),\n",
    "            layers.Conv1D(2, 5, padding='same', activation='relu', name='conv3', kernel_regularizer=regularizers.L2(l2_lambda)),\n",
    "            layers.Conv1D(1, 5, padding='same', activation='relu', name='conv4', kernel_regularizer=regularizers.L2(l2_lambda)),\n",
    "            layers.Flatten(name='dis_flatten'),\n",
    "            layers.Dense(512, name='dis_dense1', activation='relu', kernel_regularizer=regularizers.L2(l2_lambda)),\n",
    "            layers.Dropout(dropout_rate),\n",
    "            layers.Dense(128, name='dis_dense2', activation='relu', kernel_regularizer=regularizers.L2(l2_lambda)),\n",
    "            layers.Dropout(dropout_rate),\n",
    "            layers.Dense(32, name='dis_dense3', activation='relu', kernel_regularizer=regularizers.L2(l2_lambda)),\n",
    "            layers.Dropout(dropout_rate),\n",
    "            layers.Dense(8, name='dis_dense4', activation='relu', kernel_regularizer=regularizers.L2(l2_lambda)),\n",
    "            layers.Dropout(dropout_rate),\n",
    "            layers.Dense(1, name='sigmoid', activation='sigmoid', kernel_regularizer=regularizers.L2(l2_lambda))\n",
    "        ], name='critic')\n",
    "    \n",
    "    def call(self, inputs):\n",
    "        return self.model(inputs)\n",
    "\n",
    "def build_model():\n",
    "    model = Critic(time_dim=512, feature_dim=len(channels), use_sublayer=False)\n",
    "\n",
    "    model.compile(optimizer=keras.optimizers.Adam(learning_rate=0.001), loss='binary_crossentropy', metrics=['accuracy'])\n",
    "    return model"
   ]
  },
  {
   "cell_type": "code",
   "execution_count": null,
   "metadata": {},
   "outputs": [],
   "source": [
    "if cross_val:\n",
    "    k = 3\n",
    "    n_epochs = 3\n",
    "    all_val_acc = []\n",
    "    all_acc = []\n",
    "    all_loss = []\n",
    "    all_val_loss = []\n",
    "\n",
    "    for i in range(k):\n",
    "        print(f'>>>>>> Fold {i+1}')\n",
    "        model = build_model()\n",
    "        train_idx, val_idx = train_val_splits[i]\n",
    "        history = model.fit(X_input[train_idx].flatten(0, 1), y[train_idx].flatten(0, 1),\n",
    "                            epochs=n_epochs,\n",
    "                            batch_size=64,\n",
    "                            validation_data=(X_input[val_idx].flatten(0, 1), y[val_idx].flatten(0, 1)))\n",
    "\n",
    "        all_val_acc.append(history.history['val_accuracy'])\n",
    "        all_acc.append(history.history['accuracy'])\n",
    "        all_loss.append(history.history['loss'])\n",
    "        all_val_loss.append(history.history['val_loss'])\n",
    "\n",
    "else:\n",
    "    model = build_model()\n",
    "    history = model.fit(X_input[train_idx].flatten(0, 1), y[train_idx].flatten(0, 1),\n",
    "                        epochs=40,\n",
    "                        batch_size=64,\n",
    "                        validation_data=(X_input[val_idx].flatten(0, 1), y[val_idx].flatten(0, 1)))"
   ]
  },
  {
   "cell_type": "markdown",
   "metadata": {},
   "source": [
    "## Incorporating the free-response questions to the model\n",
    "\n",
    "This section takes advanteges of the free-response self reports, participants provided about their hypnotic experience:\n",
    "In this part, we first vectorize and then cluster the self-reports. later these cluster will be added as a seprated head to the model above so that we will train a multi-task model."
   ]
  },
  {
   "cell_type": "markdown",
   "metadata": {},
   "source": [
    "### text-clustering (topic-modeling)"
   ]
  },
  {
   "cell_type": "code",
   "execution_count": 112,
   "metadata": {},
   "outputs": [],
   "source": [
    "import pandas as pd\n",
    "session_data = pd.read_csv('/Users/yeganeh/Codes/otka_data/behavioral/behavioral_data.csv')\n",
    "# session_data = session_data.query('description == \"hypnosis\"')[['bids_id', 'score', 'english_text']].set_index('bids_id')\n",
    "self_reports = session_data.loc[:40, 'english_text'].values"
   ]
  },
  {
   "cell_type": "code",
   "execution_count": 31,
   "metadata": {},
   "outputs": [
    {
     "data": {
      "text/plain": [
       "array([0.27884615, 0.47115385, 0.25      ])"
      ]
     },
     "execution_count": 31,
     "metadata": {},
     "output_type": "execute_result"
    }
   ],
   "source": [
    "from sklearn.feature_extraction.text import TfidfVectorizer\n",
    "from sklearn.cluster import KMeans\n",
    "\n",
    "# Vectorizing text using TF-IDF\n",
    "vectorizer = TfidfVectorizer(stop_words='english')\n",
    "X = vectorizer.fit_transform(self_reports)\n",
    "\n",
    "# Clustering using k-means\n",
    "num_clusters = 3\n",
    "kmeans = KMeans(n_clusters=num_clusters)\n",
    "kmeans.fit(X)\n",
    "\n",
    "# # Print out cluster labels for each self-report\n",
    "clusters = kmeans.labels_\n",
    "# for i, report in enumerate(self_reports):\n",
    "#     print(f\"Report: {report} --> Cluster: {clusters[i]}\")\n",
    "\n",
    "np.unique(clusters, return_counts=True)[1] / len(clusters)"
   ]
  },
  {
   "cell_type": "markdown",
   "metadata": {},
   "source": [
    "### Sentiment Analysis"
   ]
  },
  {
   "cell_type": "code",
   "execution_count": null,
   "metadata": {},
   "outputs": [],
   "source": [
    "from transformers import pipeline\n",
    "classifier = pipeline('sentiment-analysis', device='mps')\n",
    "classifier(self_reports[0])"
   ]
  },
  {
   "cell_type": "markdown",
   "metadata": {},
   "source": [
    "### Zero-shot classification"
   ]
  },
  {
   "cell_type": "code",
   "execution_count": 7,
   "metadata": {},
   "outputs": [],
   "source": [
    "import openai\n",
    "import time\n",
    "openai.api_key = \"my_key\""
   ]
  },
  {
   "cell_type": "code",
   "execution_count": null,
   "metadata": {},
   "outputs": [],
   "source": [
    "classifications = []\n",
    "\n",
    "for i, report in enumerate(self_reports):\n",
    "    prompt = f\"Classify the following: '{report}'\"\n",
    "\n",
    "    try:\n",
    "        # Use the chat completion endpoint\n",
    "        response = openai.chat.completions.create(\n",
    "            model=\"gpt-4o\", \n",
    "            messages=[\n",
    "                {\"role\": \"system\", \"content\": \"You are a translator and a classifier that categorizes the depth of hypnosis based on self-reports written in Hungarian. Classify the following text into three categories: 'no hypnosis', 'shallow hypnosis' or 'deep hypnosis'. be concise and clear.\"},\n",
    "                {\"role\": \"user\", \"content\": prompt}\n",
    "            ],\n",
    "            max_tokens=40,\n",
    "            temperature=0  # Deterministic output\n",
    "        )\n",
    "        \n",
    "        # Extract classification from response\n",
    "        classification = response.choices[0].message.content.strip()\n",
    "        classifications.append(classification)\n",
    "\n",
    "        print(f\"Processed report {i+1}/{len(self_reports)}: {classification}\")\n",
    "\n",
    "    except Exception as e:\n",
    "        print(f\"Error processing report {i+1}: {e}\")\n",
    "        classifications.append(\"Error\")\n",
    "\n",
    "    # time.sleep(1)  # avoid rate limiting"
   ]
  },
  {
   "cell_type": "code",
   "execution_count": 110,
   "metadata": {},
   "outputs": [
    {
     "data": {
      "text/plain": [
       "<Axes: xlabel='score', ylabel='Count'>"
      ]
     },
     "execution_count": 110,
     "metadata": {},
     "output_type": "execute_result"
    },
    {
     "data": {
      "image/png": "[encoded data removed]",
      "text/plain": [
       "<Figure size 1000x600 with 1 Axes>"
      ]
     },
     "metadata": {},
     "output_type": "display_data"
    }
   ],
   "source": [
    "# plot participnats ratings against gpt_classification\n",
    "import seaborn as sns\n",
    "import matplotlib.pyplot as plt\n",
    "sns.set_theme(style='darkgrid')\n",
    "plt.figure(figsize=(10, 6))\n",
    "sns.histplot(data=session_data, x='score', hue='gpt_classification', multiple='stack', bins=10, kde=True)"
   ]
  }
 ],
 "metadata": {
  "kernelspec": {
   "display_name": "EEGModalNet",
   "language": "python",
   "name": "python3"
  },
  "language_info": {
   "codemirror_mode": {
    "name": "ipython",
    "version": 3
   },
   "file_extension": ".py",
   "mimetype": "text/x-python",
   "name": "python",
   "nbconvert_exporter": "python",
   "pygments_lexer": "ipython3",
   "version": "3.11.9"
  }
 },
 "nbformat": 4,
 "nbformat_minor": 2
}
