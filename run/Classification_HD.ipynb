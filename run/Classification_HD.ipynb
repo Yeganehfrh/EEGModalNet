{
 "cells": [
  {
   "cell_type": "markdown",
   "metadata": {},
   "source": [
    "# Classification of Hypnotic Depth"
   ]
  },
  {
   "cell_type": "code",
   "execution_count": 1,
   "metadata": {},
   "outputs": [
    {
     "name": "stderr",
     "output_type": "stream",
     "text": [
      "/opt/homebrew/Caskroom/miniforge/base/envs/EEGModalNet/lib/python3.11/site-packages/mne/externals/tempita/__init__.py:35: DeprecationWarning: 'cgi' is deprecated and slated for removal in Python 3.13\n",
      "  import cgi\n"
     ]
    }
   ],
   "source": [
    "%reload_ext autoreload\n",
    "%autoreload 2\n",
    "\n",
    "import os\n",
    "from matplotlib import pyplot as plt\n",
    "import numpy as np\n",
    "import xarray as xr\n",
    "import pandas as pd\n",
    "import seaborn as sns\n",
    "os.environ['KERAS_BACKEND'] = 'torch'\n",
    "os.environ['PYTORCH_ENABLE_MPS_FALLBACK'] = '1'\n",
    "os.environ[\"CUDA_VISIBLE_DEVICES\"] = \"\"  # force CPU usage\n",
    "import mne\n",
    "\n",
    "import torch\n",
    "import keras\n",
    "import xarray as xr\n",
    "import numpy as np\n",
    "import xarray as xr\n",
    "import pandas as pd\n",
    "from pathlib import Path\n",
    "import re\n",
    "from sklearn.preprocessing import RobustScaler, StandardScaler\n",
    "\n",
    "import mne\n",
    "\n",
    "\n",
    "# helper functions\n",
    "def preprocess_data(data, baseline_mean):\n",
    "    # Step 1: Baseline correction (subtract the mean of the first 0.5 seconds for each channel) \n",
    "    data_corrected = data - baseline_mean\n",
    "    \n",
    "    # Step 2: Robust Scaler (normalize using median and IQR)\n",
    "    scaler = RobustScaler()\n",
    "    data_scaled = scaler.fit_transform(data_corrected.T)\n",
    "    \n",
    "    # Step 3: Normalization (z-score normalization)\n",
    "    normalizer = StandardScaler()\n",
    "    data_normalized = normalizer.fit_transform(data_scaled).T  # Transpose for sklearn, then back\n",
    "    \n",
    "    # Step 4: Clamp values greater than 20 standard deviations (becuause of the normalization at the previous step sd is 1)\n",
    "    std_threshold = 20\n",
    "    data_clamped = np.clip(data_normalized, -std_threshold, std_threshold)\n",
    "    \n",
    "    return data_clamped"
   ]
  },
  {
   "cell_type": "markdown",
   "metadata": {},
   "source": [
    "## DATA"
   ]
  },
  {
   "cell_type": "code",
   "execution_count": 3,
   "metadata": {},
   "outputs": [],
   "source": [
    "EEG_data_path = Path('/Volumes/Extreme SSD/PhD/OTKA study1/EEG data/BIDS/')\n",
    "\n",
    "all_data = {}\n",
    "\n",
    "# is it because of the resampling that there are different number of timepoints?\n",
    "\n",
    "for root in sorted(EEG_data_path.glob('sub-*')):\n",
    "    sub_path  = root / 'ses-01/eeg/'\n",
    "    for data_path in sorted(sub_path.glob('*_eeg.vhdr')):\n",
    "        bids_id, task = re.match(r'.*/sub-(.*)_ses-01_task-(.*)_eeg.vhdr', str(data_path)).groups()\n",
    "        if task == 'baseline1':\n",
    "            print(f'>>>>>>Processing {bids_id} {task}')\n",
    "            epoch = mne.io.read_raw_brainvision(data_path, verbose=False, eog=['EOG1', 'EOG2'], misc=['ECG'])\n",
    "            epoch.pick(picks='eeg', exclude=['M1', 'M2'])\n",
    "            epoch.resample(128)\n",
    "            epoch = epoch.get_data()\n",
    "            baseline_mean = epoch.mean(axis=1, keepdims=True)\n",
    "            continue\n",
    "    \n",
    "        if task.__contains__('experience'):\n",
    "            print(f'>>>>>>Processing {bids_id} {task}')\n",
    "            epoch = mne.io.read_raw_brainvision(data_path, verbose=False, eog=['EOG1', 'EOG2'], misc=['ECG'])\n",
    "            epoch.pick(picks='eeg', exclude=['M1', 'M2'])\n",
    "            epoch.resample(128)\n",
    "            data = epoch.get_data()\n",
    "            data_clamped = preprocess_data(data, baseline_mean)\n",
    "            all_data[f'sub-{bids_id}_{task}'] = data_clamped"
   ]
  },
  {
   "cell_type": "code",
   "execution_count": 142,
   "metadata": {},
   "outputs": [],
   "source": [
    "## Prepare the data to be converted and stored as a data array\n",
    "\n",
    "# trim all the data in the dictionary to the minimum length\n",
    "min_len = min([i.shape[1] for i in list(all_data.values())])\n",
    "all_data = {k: v[:, :min_len] for k, v in all_data.items()}\n",
    "\n",
    "# there are two missing tasks for sub-52, we fill them with zeros so th\n",
    "all_data['sub-52_experience2'] = np.zeros_like(all_data['sub-52_experience1'])\n",
    "all_data['sub-52_experience3'] = np.zeros_like(all_data['sub-52_experience1'])\n",
    "data = np.array(list(all_data.values()))\n",
    "data = data.reshape(52, 4, 56, -1)  # 52 subjects, 4 conditions, 56 channels, time\n",
    "# rearranging the data for the last participant whose experience 2 and 3 data is missing\n",
    "data[-1, -1] = data[-1, -3]  \n",
    "data[-1, -3] = data[-1, -2]\n",
    "\n",
    "data = xr.DataArray(data, \n",
    "                    dims=('subject', 'tasks', 'channel', 'time'),\n",
    "                    coords={'subject': np.unique([i.split('_')[0] for i in all_data.keys()]),\n",
    "                            'tasks': ['experience1', 'experience2', 'experience3', 'experience4'],\n",
    "                            'channel': epoch.ch_names,\n",
    "                            'time': np.arange(min_len)}\n",
    "                            )\n",
    "\n",
    "# data.to_netcdf('/Users/yeganeh/Codes/otka_data/EEG/experiment_EEG_data.nc5', engine='h5netcdf')"
   ]
  },
  {
   "cell_type": "markdown",
   "metadata": {},
   "source": [
    "## MODEL"
   ]
  },
  {
   "cell_type": "code",
   "execution_count": 2,
   "metadata": {},
   "outputs": [],
   "source": [
    "# open EEG data\n",
    "EEG_data = xr.open_dataarray('/Users/yeganeh/Codes/otka_data/EEG/experiment_EEG_data.nc5')\n",
    "only_real_hypnosis = False\n",
    "\n",
    "# open session data\n",
    "session_data = pd.read_csv('/Users/yeganeh/Codes/otka_data/behavioral/behavioral_data.csv')\n",
    "described_as_hyp = session_data.query('description == \"hypnosis\"')[['bids_id', 'session', 'score', 'procedure']].set_index('bids_id')\n",
    "n_sessions = 2\n",
    "if only_real_hypnosis:\n",
    "    described_as_hyp = described_as_hyp.query('procedure in [\"relaxation\", \"confusion\"]')\n",
    "    n_sessions = 1"
   ]
  },
  {
   "cell_type": "code",
   "execution_count": 5,
   "metadata": {},
   "outputs": [],
   "source": [
    "# # including only 10 subjects\n",
    "from scipy.signal import butter, sosfilt\n",
    "from sklearn.model_selection import GroupShuffleSplit \n",
    "from sklearn.model_selection import train_test_split\n",
    "\n",
    "n_subject = 51\n",
    "time_dim = 512\n",
    "filtering = True\n",
    "channels = ['Oz', 'Fz', 'Cz', 'Pz', 'Fp1', 'Fp2', 'F3', 'F4']\n",
    "\n",
    "X_input = EEG_data.sel(subject=EEG_data.subject[:n_subject], channel=channels).to_numpy()\n",
    "\n",
    "# including only hypnosis sessions\n",
    "X_input_hyp =  np.zeros([n_subject, n_sessions, len(channels), X_input.shape[-1]])\n",
    "for i in range(X_input.shape[0]):\n",
    "    ses = described_as_hyp.loc[i+1, 'session'].values - 1\n",
    "    X_input_hyp[i] = X_input[i, ses, :, :]\n",
    "\n",
    "# preparing x\n",
    "if filtering:\n",
    "    sos = butter(4, 1, btype='high', fs=128, output='sos')\n",
    "    X_input_hyp = sosfilt(sos, X_input_hyp, axis=-1)\n",
    "\n",
    "X_input_hyp = torch.tensor(X_input_hyp.squeeze()).unfold(-1, time_dim, time_dim).permute(0, 1, 3, 4, 2)\n",
    "train_ids, test_ids = train_test_split(np.arange(n_subject), test_size=0.2, random_state=0)  # TODO\n",
    "X_train, X_test = X_input_hyp[train_ids].flatten(0, 1).flatten(0, 1), X_input_hyp[test_ids].flatten(0, 1).flatten(0, 1)\n",
    "\n",
    "\n",
    "# prepare y\n",
    "described_as_hyp['binary_scores'] = described_as_hyp['score'].apply(lambda x: 0 if x>6 else 1)\n",
    "y_train = described_as_hyp.loc[:n_subject, 'binary_scores'].loc[train_ids + 1.0].values  # TODO +1 because the bids_id are not zero based unlike the indices (make sure that it does not mess up the order)\n",
    "y_test = described_as_hyp.loc[:n_subject, 'binary_scores'].loc[test_ids + 1.0].values\n",
    "y_train = torch.tensor(y_train).reshape(-1, 1).repeat(1, X_input_hyp.shape[2]).flatten(0, 1)\n",
    "y_test = torch.tensor(y_test).reshape(-1, 1).repeat(1, X_input_hyp.shape[2]).flatten(0, 1)"
   ]
  },
  {
   "cell_type": "code",
   "execution_count": 14,
   "metadata": {},
   "outputs": [],
   "source": [
    "y = described_as_hyp.loc[:n_subject, 'binary_scores']\n",
    "groups = y.indexto_numpy() - 1  # -1 because the bids_id are not zero based unlike the indices\n",
    "y = y.values\n",
    "x = X_input_hyp.flatten(0, 1)"
   ]
  },
  {
   "cell_type": "code",
   "execution_count": 16,
   "metadata": {},
   "outputs": [
    {
     "data": {
      "text/plain": [
       "(torch.Size([102, 104, 512, 8]), (102,), (102,))"
      ]
     },
     "execution_count": 16,
     "metadata": {},
     "output_type": "execute_result"
    }
   ],
   "source": [
    "X_input_hyp.flatten(0, 1).shape, y.shape, groups.shape"
   ]
  },
  {
   "cell_type": "code",
   "execution_count": 28,
   "metadata": {},
   "outputs": [],
   "source": [
    "from sklearn.model_selection import StratifiedGroupKFold\n",
    "\n",
    "# prepare cross validation\n",
    "n_splits = 5\n",
    "group_kfold = StratifiedGroupKFold(n_splits=n_splits)\n",
    "train_val_splits = []\n",
    "for train_idx, val_idx in group_kfold.split(X_input_hyp.flatten(0, 1), y, groups=groups):\n",
    "    train_val_splits.append((train_idx, val_idx))"
   ]
  },
  {
   "cell_type": "code",
   "execution_count": 17,
   "metadata": {},
   "outputs": [
    {
     "data": {
      "text/plain": [
       "(array([0.4625, 0.5375]), array([0.5, 0.5]))"
      ]
     },
     "execution_count": 17,
     "metadata": {},
     "output_type": "execute_result"
    }
   ],
   "source": [
    "np.unique(y_train, return_counts=True)[1] / len(y_train), np.unique(y_test, return_counts=True)[1] / len(y_test)"
   ]
  },
  {
   "cell_type": "code",
   "execution_count": 33,
   "metadata": {},
   "outputs": [
    {
     "name": "stdout",
     "output_type": "stream",
     "text": [
      "Epoch 1/40\n",
      "\u001b[1m130/130\u001b[0m \u001b[32m━━━━━━━━━━━━━━━━━━━━\u001b[0m\u001b[37m\u001b[0m \u001b[1m7s\u001b[0m 54ms/step - accuracy: 0.9861 - loss: 0.1471 - val_accuracy: 0.6661 - val_loss: 1.4558\n",
      "Epoch 2/40\n",
      "\u001b[1m130/130\u001b[0m \u001b[32m━━━━━━━━━━━━━━━━━━━━\u001b[0m\u001b[37m\u001b[0m \u001b[1m7s\u001b[0m 53ms/step - accuracy: 0.9861 - loss: 0.1455 - val_accuracy: 0.6600 - val_loss: 1.4330\n",
      "Epoch 3/40\n",
      "\u001b[1m130/130\u001b[0m \u001b[32m━━━━━━━━━━━━━━━━━━━━\u001b[0m\u001b[37m\u001b[0m \u001b[1m7s\u001b[0m 53ms/step - accuracy: 0.9868 - loss: 0.1426 - val_accuracy: 0.6538 - val_loss: 1.4477\n",
      "Epoch 4/40\n",
      "\u001b[1m130/130\u001b[0m \u001b[32m━━━━━━━━━━━━━━━━━━━━\u001b[0m\u001b[37m\u001b[0m \u001b[1m7s\u001b[0m 54ms/step - accuracy: 0.9836 - loss: 0.1468 - val_accuracy: 0.6477 - val_loss: 1.4569\n",
      "Epoch 5/40\n",
      "\u001b[1m130/130\u001b[0m \u001b[32m━━━━━━━━━━━━━━━━━━━━\u001b[0m\u001b[37m\u001b[0m \u001b[1m7s\u001b[0m 54ms/step - accuracy: 0.9861 - loss: 0.1441 - val_accuracy: 0.6556 - val_loss: 1.3685\n",
      "Epoch 6/40\n",
      "\u001b[1m130/130\u001b[0m \u001b[32m━━━━━━━━━━━━━━━━━━━━\u001b[0m\u001b[37m\u001b[0m \u001b[1m7s\u001b[0m 53ms/step - accuracy: 0.9890 - loss: 0.1333 - val_accuracy: 0.6569 - val_loss: 1.3371\n",
      "Epoch 7/40\n",
      "\u001b[1m130/130\u001b[0m \u001b[32m━━━━━━━━━━━━━━━━━━━━\u001b[0m\u001b[37m\u001b[0m \u001b[1m7s\u001b[0m 53ms/step - accuracy: 0.9835 - loss: 0.1466 - val_accuracy: 0.6565 - val_loss: 1.5202\n",
      "Epoch 8/40\n",
      "\u001b[1m130/130\u001b[0m \u001b[32m━━━━━━━━━━━━━━━━━━━━\u001b[0m\u001b[37m\u001b[0m \u001b[1m7s\u001b[0m 53ms/step - accuracy: 0.9889 - loss: 0.1307 - val_accuracy: 0.6613 - val_loss: 1.4392\n",
      "Epoch 9/40\n",
      "\u001b[1m130/130\u001b[0m \u001b[32m━━━━━━━━━━━━━━━━━━━━\u001b[0m\u001b[37m\u001b[0m \u001b[1m7s\u001b[0m 54ms/step - accuracy: 0.9866 - loss: 0.1411 - val_accuracy: 0.6661 - val_loss: 1.5771\n",
      "Epoch 10/40\n",
      "\u001b[1m130/130\u001b[0m \u001b[32m━━━━━━━━━━━━━━━━━━━━\u001b[0m\u001b[37m\u001b[0m \u001b[1m7s\u001b[0m 53ms/step - accuracy: 0.9838 - loss: 0.1510 - val_accuracy: 0.6613 - val_loss: 1.3214\n",
      "Epoch 11/40\n",
      "\u001b[1m130/130\u001b[0m \u001b[32m━━━━━━━━━━━━━━━━━━━━\u001b[0m\u001b[37m\u001b[0m \u001b[1m7s\u001b[0m 53ms/step - accuracy: 0.9843 - loss: 0.1459 - val_accuracy: 0.6670 - val_loss: 1.4511\n",
      "Epoch 12/40\n",
      "\u001b[1m130/130\u001b[0m \u001b[32m━━━━━━━━━━━━━━━━━━━━\u001b[0m\u001b[37m\u001b[0m \u001b[1m7s\u001b[0m 53ms/step - accuracy: 0.9817 - loss: 0.1504 - val_accuracy: 0.6206 - val_loss: 1.7854\n",
      "Epoch 13/40\n",
      "\u001b[1m130/130\u001b[0m \u001b[32m━━━━━━━━━━━━━━━━━━━━\u001b[0m\u001b[37m\u001b[0m \u001b[1m7s\u001b[0m 54ms/step - accuracy: 0.9781 - loss: 0.1561 - val_accuracy: 0.6608 - val_loss: 1.3628\n",
      "Epoch 14/40\n",
      "\u001b[1m130/130\u001b[0m \u001b[32m━━━━━━━━━━━━━━━━━━━━\u001b[0m\u001b[37m\u001b[0m \u001b[1m7s\u001b[0m 53ms/step - accuracy: 0.9879 - loss: 0.1350 - val_accuracy: 0.6530 - val_loss: 1.3673\n",
      "Epoch 15/40\n",
      "\u001b[1m130/130\u001b[0m \u001b[32m━━━━━━━━━━━━━━━━━━━━\u001b[0m\u001b[37m\u001b[0m \u001b[1m7s\u001b[0m 53ms/step - accuracy: 0.9874 - loss: 0.1317 - val_accuracy: 0.6766 - val_loss: 1.5099\n",
      "Epoch 16/40\n",
      "\u001b[1m130/130\u001b[0m \u001b[32m━━━━━━━━━━━━━━━━━━━━\u001b[0m\u001b[37m\u001b[0m \u001b[1m7s\u001b[0m 53ms/step - accuracy: 0.9869 - loss: 0.1374 - val_accuracy: 0.6604 - val_loss: 1.4175\n",
      "Epoch 17/40\n",
      "\u001b[1m130/130\u001b[0m \u001b[32m━━━━━━━━━━━━━━━━━━━━\u001b[0m\u001b[37m\u001b[0m \u001b[1m7s\u001b[0m 53ms/step - accuracy: 0.9896 - loss: 0.1284 - val_accuracy: 0.6595 - val_loss: 1.3868\n",
      "Epoch 18/40\n",
      "\u001b[1m130/130\u001b[0m \u001b[32m━━━━━━━━━━━━━━━━━━━━\u001b[0m\u001b[37m\u001b[0m \u001b[1m7s\u001b[0m 53ms/step - accuracy: 0.9870 - loss: 0.1323 - val_accuracy: 0.6608 - val_loss: 1.5547\n",
      "Epoch 19/40\n",
      "\u001b[1m130/130\u001b[0m \u001b[32m━━━━━━━━━━━━━━━━━━━━\u001b[0m\u001b[37m\u001b[0m \u001b[1m7s\u001b[0m 53ms/step - accuracy: 0.9883 - loss: 0.1265 - val_accuracy: 0.6744 - val_loss: 1.4470\n",
      "Epoch 20/40\n",
      "\u001b[1m130/130\u001b[0m \u001b[32m━━━━━━━━━━━━━━━━━━━━\u001b[0m\u001b[37m\u001b[0m \u001b[1m7s\u001b[0m 53ms/step - accuracy: 0.9861 - loss: 0.1373 - val_accuracy: 0.6534 - val_loss: 1.4563\n",
      "Epoch 21/40\n",
      "\u001b[1m130/130\u001b[0m \u001b[32m━━━━━━━━━━━━━━━━━━━━\u001b[0m\u001b[37m\u001b[0m \u001b[1m7s\u001b[0m 54ms/step - accuracy: 0.9871 - loss: 0.1328 - val_accuracy: 0.6604 - val_loss: 1.4190\n",
      "Epoch 22/40\n",
      "\u001b[1m130/130\u001b[0m \u001b[32m━━━━━━━━━━━━━━━━━━━━\u001b[0m\u001b[37m\u001b[0m \u001b[1m7s\u001b[0m 53ms/step - accuracy: 0.9874 - loss: 0.1314 - val_accuracy: 0.6381 - val_loss: 1.3012\n",
      "Epoch 23/40\n",
      "\u001b[1m130/130\u001b[0m \u001b[32m━━━━━━━━━━━━━━━━━━━━\u001b[0m\u001b[37m\u001b[0m \u001b[1m7s\u001b[0m 54ms/step - accuracy: 0.9683 - loss: 0.1749 - val_accuracy: 0.6582 - val_loss: 1.5013\n",
      "Epoch 24/40\n",
      "\u001b[1m130/130\u001b[0m \u001b[32m━━━━━━━━━━━━━━━━━━━━\u001b[0m\u001b[37m\u001b[0m \u001b[1m7s\u001b[0m 53ms/step - accuracy: 0.9861 - loss: 0.1343 - val_accuracy: 0.6648 - val_loss: 1.4199\n",
      "Epoch 25/40\n",
      "\u001b[1m130/130\u001b[0m \u001b[32m━━━━━━━━━━━━━━━━━━━━\u001b[0m\u001b[37m\u001b[0m \u001b[1m7s\u001b[0m 53ms/step - accuracy: 0.9873 - loss: 0.1316 - val_accuracy: 0.6578 - val_loss: 1.4611\n",
      "Epoch 26/40\n",
      "\u001b[1m130/130\u001b[0m \u001b[32m━━━━━━━━━━━━━━━━━━━━\u001b[0m\u001b[37m\u001b[0m \u001b[1m7s\u001b[0m 53ms/step - accuracy: 0.9891 - loss: 0.1256 - val_accuracy: 0.6565 - val_loss: 1.5231\n",
      "Epoch 27/40\n",
      "\u001b[1m130/130\u001b[0m \u001b[32m━━━━━━━━━━━━━━━━━━━━\u001b[0m\u001b[37m\u001b[0m \u001b[1m7s\u001b[0m 54ms/step - accuracy: 0.9868 - loss: 0.1312 - val_accuracy: 0.6774 - val_loss: 1.2805\n",
      "Epoch 28/40\n",
      "\u001b[1m130/130\u001b[0m \u001b[32m━━━━━━━━━━━━━━━━━━━━\u001b[0m\u001b[37m\u001b[0m \u001b[1m7s\u001b[0m 53ms/step - accuracy: 0.9879 - loss: 0.1277 - val_accuracy: 0.6691 - val_loss: 1.4261\n",
      "Epoch 29/40\n",
      "\u001b[1m130/130\u001b[0m \u001b[32m━━━━━━━━━━━━━━━━━━━━\u001b[0m\u001b[37m\u001b[0m \u001b[1m7s\u001b[0m 53ms/step - accuracy: 0.9866 - loss: 0.1329 - val_accuracy: 0.6713 - val_loss: 1.2981\n",
      "Epoch 30/40\n",
      "\u001b[1m130/130\u001b[0m \u001b[32m━━━━━━━━━━━━━━━━━━━━\u001b[0m\u001b[37m\u001b[0m \u001b[1m7s\u001b[0m 54ms/step - accuracy: 0.9867 - loss: 0.1305 - val_accuracy: 0.6713 - val_loss: 1.5724\n",
      "Epoch 31/40\n",
      "\u001b[1m130/130\u001b[0m \u001b[32m━━━━━━━━━━━━━━━━━━━━\u001b[0m\u001b[37m\u001b[0m \u001b[1m7s\u001b[0m 53ms/step - accuracy: 0.9865 - loss: 0.1312 - val_accuracy: 0.6639 - val_loss: 1.2990\n",
      "Epoch 32/40\n",
      "\u001b[1m130/130\u001b[0m \u001b[32m━━━━━━━━━━━━━━━━━━━━\u001b[0m\u001b[37m\u001b[0m \u001b[1m7s\u001b[0m 53ms/step - accuracy: 0.9857 - loss: 0.1335 - val_accuracy: 0.6573 - val_loss: 1.5338\n",
      "Epoch 33/40\n",
      "\u001b[1m130/130\u001b[0m \u001b[32m━━━━━━━━━━━━━━━━━━━━\u001b[0m\u001b[37m\u001b[0m \u001b[1m7s\u001b[0m 54ms/step - accuracy: 0.9884 - loss: 0.1255 - val_accuracy: 0.6691 - val_loss: 1.3010\n",
      "Epoch 34/40\n",
      "\u001b[1m130/130\u001b[0m \u001b[32m━━━━━━━━━━━━━━━━━━━━\u001b[0m\u001b[37m\u001b[0m \u001b[1m7s\u001b[0m 54ms/step - accuracy: 0.9863 - loss: 0.1328 - val_accuracy: 0.6613 - val_loss: 1.4589\n",
      "Epoch 35/40\n",
      "\u001b[1m130/130\u001b[0m \u001b[32m━━━━━━━━━━━━━━━━━━━━\u001b[0m\u001b[37m\u001b[0m \u001b[1m7s\u001b[0m 53ms/step - accuracy: 0.9816 - loss: 0.1417 - val_accuracy: 0.6722 - val_loss: 1.3101\n",
      "Epoch 36/40\n",
      "\u001b[1m130/130\u001b[0m \u001b[32m━━━━━━━━━━━━━━━━━━━━\u001b[0m\u001b[37m\u001b[0m \u001b[1m7s\u001b[0m 54ms/step - accuracy: 0.9833 - loss: 0.1306 - val_accuracy: 0.6591 - val_loss: 1.5443\n",
      "Epoch 37/40\n",
      "\u001b[1m130/130\u001b[0m \u001b[32m━━━━━━━━━━━━━━━━━━━━\u001b[0m\u001b[37m\u001b[0m \u001b[1m7s\u001b[0m 54ms/step - accuracy: 0.9883 - loss: 0.1242 - val_accuracy: 0.6761 - val_loss: 1.2620\n",
      "Epoch 38/40\n",
      "\u001b[1m130/130\u001b[0m \u001b[32m━━━━━━━━━━━━━━━━━━━━\u001b[0m\u001b[37m\u001b[0m \u001b[1m7s\u001b[0m 53ms/step - accuracy: 0.9867 - loss: 0.1276 - val_accuracy: 0.6525 - val_loss: 1.4482\n",
      "Epoch 39/40\n",
      "\u001b[1m130/130\u001b[0m \u001b[32m━━━━━━━━━━━━━━━━━━━━\u001b[0m\u001b[37m\u001b[0m \u001b[1m7s\u001b[0m 53ms/step - accuracy: 0.9890 - loss: 0.1206 - val_accuracy: 0.6569 - val_loss: 1.4045\n",
      "Epoch 40/40\n",
      "\u001b[1m130/130\u001b[0m \u001b[32m━━━━━━━━━━━━━━━━━━━━\u001b[0m\u001b[37m\u001b[0m \u001b[1m7s\u001b[0m 53ms/step - accuracy: 0.9892 - loss: 0.1186 - val_accuracy: 0.6678 - val_loss: 1.2874\n"
     ]
    }
   ],
   "source": [
    "# # model\n",
    "# from src.EEGModalNet.models.common import ResidualBlock\n",
    "# import keras\n",
    "# from keras import layers\n",
    "# from keras import regularizers\n",
    "# l2_lambda = 0.01\n",
    "dropout_rate = 0.2\n",
    "\n",
    "# class Critic(keras.Model):\n",
    "#     def __init__(self, time_dim, feature_dim, use_sublayer):\n",
    "#         super(Critic, self).__init__()\n",
    "\n",
    "#         self.input_shape = (time_dim, feature_dim)\n",
    "#         self.use_sublayer = use_sublayer\n",
    "\n",
    "#         self.model = keras.Sequential([\n",
    "#             keras.Input(shape=self.input_shape),\n",
    "#             ResidualBlock(feature_dim * 4, 5, activation='relu'),\n",
    "#             layers.Conv1D(2, 5, padding='same', activation='relu', name='conv3', kernel_regularizer=regularizers.L2(l2_lambda)),\n",
    "#             layers.Conv1D(1, 5, padding='same', activation='relu', name='conv4', kernel_regularizer=regularizers.L2(l2_lambda)),\n",
    "#             layers.Flatten(name='dis_flatten'),\n",
    "#             layers.Dense(512, name='dis_dense1', activation='relu', kernel_regularizer=regularizers.L2(l2_lambda)),\n",
    "#             layers.Dropout(dropout_rate),\n",
    "#             layers.Dense(128, name='dis_dense2', activation='relu', kernel_regularizer=regularizers.L2(l2_lambda)),\n",
    "#             layers.Dropout(dropout_rate),\n",
    "#             layers.Dense(32, name='dis_dense3', activation='relu', kernel_regularizer=regularizers.L2(l2_lambda)),\n",
    "#             layers.Dropout(dropout_rate),\n",
    "#             layers.Dense(8, name='dis_dense4', activation='relu', kernel_regularizer=regularizers.L2(l2_lambda)),\n",
    "#             layers.Dropout(dropout_rate),\n",
    "#             layers.Dense(1, name='sigmoid', activation='sigmoid', kernel_regularizer=regularizers.L2(l2_lambda))\n",
    "#         ], name='critic')\n",
    "    \n",
    "#     def call(self, inputs):\n",
    "#         return self.model(inputs)\n",
    "\n",
    "# torch.cuda.empty_cache() # clear GPU memory before training\n",
    "# model = Critic(time_dim=512, feature_dim=len(channels), use_sublayer=False)\n",
    "\n",
    "# model.compile(optimizer=keras.optimizers.Adam(learning_rate=0.001), loss='binary_crossentropy', metrics=['accuracy'])\n",
    "\n",
    "\n",
    "history = model.fit(X_train, y_train, epochs=40, batch_size=64, validation_data=(X_test, y_test))"
   ]
  },
  {
   "cell_type": "code",
   "execution_count": 34,
   "metadata": {},
   "outputs": [
    {
     "data": {
      "text/plain": [
       "[<matplotlib.lines.Line2D at 0x2a0d93090>]"
      ]
     },
     "execution_count": 34,
     "metadata": {},
     "output_type": "execute_result"
    },
    {
     "data": {
      "image/png": "[encoded data removed]",
      "text/plain": [
       "<Figure size 640x480 with 1 Axes>"
      ]
     },
     "metadata": {},
     "output_type": "display_data"
    }
   ],
   "source": [
    "from matplotlib import pyplot as plt\n",
    "plt.plot(history.history['loss'], label='train')\n",
    "plt.plot(history.history['val_loss'], label='test')"
   ]
  },
  {
   "cell_type": "code",
   "execution_count": 35,
   "metadata": {},
   "outputs": [
    {
     "data": {
      "text/plain": [
       "<matplotlib.legend.Legend at 0x2e0fc4e50>"
      ]
     },
     "execution_count": 35,
     "metadata": {},
     "output_type": "execute_result"
    },
    {
     "data": {
      "image/png": "[encoded data removed]",
      "text/plain": [
       "<Figure size 640x480 with 1 Axes>"
      ]
     },
     "metadata": {},
     "output_type": "display_data"
    }
   ],
   "source": [
    "plt.plot(history.history['accuracy'], label='train')\n",
    "plt.plot(history.history['val_accuracy'], label='test')\n",
    "plt.legend()"
   ]
  },
  {
   "cell_type": "code",
   "execution_count": 37,
   "metadata": {},
   "outputs": [],
   "source": [
    "# save model & model config\n",
    "model_path = 'data/trainings/training_19092024/'\n",
    "model_name = 'HD_classify_'+ '8_channels'\n",
    "model.save(model_path+f'{model_name}.model.keras')\n",
    "model_config = model.model.get_config()\n",
    "import json\n",
    "with open(f'{model_name}_config.json', 'w') as f:\n",
    "    json.dump(model_config, f)"
   ]
  },
  {
   "cell_type": "code",
   "execution_count": 28,
   "metadata": {},
   "outputs": [
    {
     "data": {
      "text/plain": [
       "['Oz-', 'Fz-', 'Cz-', 'Pz-', 'Fp1-', 'Fp2-', 'F3-', 'F4-']"
      ]
     },
     "execution_count": 28,
     "metadata": {},
     "output_type": "execute_result"
    }
   ],
   "source": [
    "# add all the channel names into one string\n",
    "channels = ['Oz', 'Fz', 'Cz', 'Pz', 'Fp1', 'Fp2', 'F3', 'F4']\n",
    "\n",
    "[ch + '-' for ch in channels]"
   ]
  }
 ],
 "metadata": {
  "kernelspec": {
   "display_name": "EEGModalNet",
   "language": "python",
   "name": "python3"
  },
  "language_info": {
   "codemirror_mode": {
    "name": "ipython",
    "version": 3
   },
   "file_extension": ".py",
   "mimetype": "text/x-python",
   "name": "python",
   "nbconvert_exporter": "python",
   "pygments_lexer": "ipython3",
   "version": "3.11.9"
  }
 },
 "nbformat": 4,
 "nbformat_minor": 2
}
