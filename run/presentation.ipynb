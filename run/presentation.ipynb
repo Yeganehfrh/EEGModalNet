{
 "cells": [
  {
   "cell_type": "markdown",
   "metadata": {},
   "source": [
    "# Visualisation\n",
    "For the presentation at SCEH 2024"
   ]
  },
  {
   "cell_type": "code",
   "execution_count": 5,
   "metadata": {},
   "outputs": [],
   "source": [
    "from pathlib import Path\n",
    "from PIL import Image\n",
    "\n",
    "img_list = []\n",
    "\n",
    "for i in sorted(Path('/Users/Yeganeh/Documents/PhD/Semester12/SCEH2024/Presentation/generated_data/psds/').glob('*.png')):\n",
    "  img_list.append(Image.open(i))\n",
    "\n",
    "img_list[0].save('data/output.gif', save_all=True, append_images=img_list[1:], duration=200, loop=1)"
   ]
  }
 ],
 "metadata": {
  "kernelspec": {
   "display_name": "EEGModalNet",
   "language": "python",
   "name": "python3"
  },
  "language_info": {
   "codemirror_mode": {
    "name": "ipython",
    "version": 3
   },
   "file_extension": ".py",
   "mimetype": "text/x-python",
   "name": "python",
   "nbconvert_exporter": "python",
   "pygments_lexer": "ipython3",
   "version": "3.11.9"
  }
 },
 "nbformat": 4,
 "nbformat_minor": 2
}
