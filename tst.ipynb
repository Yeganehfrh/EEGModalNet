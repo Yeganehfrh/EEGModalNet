{
 "cells": [
  {
   "cell_type": "code",
   "execution_count": 12,
   "metadata": {},
   "outputs": [],
   "source": [
    "import mne\n",
    "import pandas as pd\n",
    "import numpy as np\n",
    "from src.preprocessing import annot_checker as anch"
   ]
  },
  {
   "cell_type": "code",
   "execution_count": 3,
   "metadata": {},
   "outputs": [
    {
     "name": "stdout",
     "output_type": "stream",
     "text": [
      "Extracting parameters from data/EEG/sub-032301/RSEEG/sub-010002.vhdr...\n",
      "Setting channel info structure...\n"
     ]
    }
   ],
   "source": [
    "# open raw data\n",
    "raw = mne.io.read_raw_brainvision('data/EEG/sub-032301/RSEEG/sub-010002.vhdr')"
   ]
  },
  {
   "cell_type": "code",
   "execution_count": 13,
   "metadata": {},
   "outputs": [
    {
     "name": "stdout",
     "output_type": "stream",
     "text": [
      "Extracting parameters from data/EEG/sub-032301/RSEEG/sub-010002.vhdr...\n",
      "Setting channel info structure...\n"
     ]
    }
   ],
   "source": [
    "# containers\n",
    "fnames_missbehave = {}\n",
    "\n",
    "# open data\n",
    "fname = 'sub-010002'\n",
    "raw = mne.io.read_raw_brainvision(f'data/EEG/sub-032301/RSEEG/{fname}.vhdr')\n",
    "\n",
    "# change annot names\n",
    "desc = anch.change_annot_names(raw.annotations.description.copy())\n",
    "\n",
    "# check annot names\n",
    "points = anch.annotations_checker(desc)\n",
    "\n",
    "# save those with deflection\n",
    "if sum(points.values()) != 2:\n",
    "    fnames_missbehave[fname] = points"
   ]
  },
  {
   "cell_type": "code",
   "execution_count": 46,
   "metadata": {},
   "outputs": [
    {
     "name": "stdout",
     "output_type": "stream",
     "text": [
      "2 Switch 3.9916\n",
      "3 Switch 6.3752\n",
      "34 Switch 68.7384\n",
      "65 Switch 130.4616\n",
      "96 Switch 192.4212\n",
      "127 Switch 254.3584\n",
      "158 Switch 316.2324\n",
      "189 Switch 378.0172\n",
      "220 Switch 439.6168\n",
      "251 Switch 501.6544\n",
      "282 Switch 564.2188\n",
      "313 Switch 626.3028\n",
      "344 Switch 688.5224\n",
      "375 Switch 750.3312\n",
      "406 Switch 812.594\n",
      "437 Switch 874.8644\n",
      "468 Switch 937.3132\n"
     ]
    }
   ],
   "source": [
    "desc = raw.annotations.description.copy()\n",
    "onsets = raw.annotations.onset.copy()\n",
    "annot_dict = {k:v for k,v in zip(desc,onsets)}\n",
    "\n",
    "for k in annot_dict.keys():\n",
    "    if 'Switch' in k:\n",
    "        switch_onsets = annot_dict[k]\n",
    "\n",
    "for i in range(len(switch_onsets)):\n",
    "    seg = raw.copy().crop(tmin=switch_onsets[i], tmax=switch_onsets[i], include_tmax=False)"
   ]
  }
 ],
 "metadata": {
  "kernelspec": {
   "display_name": "SugNet",
   "language": "python",
   "name": "python3"
  },
  "language_info": {
   "codemirror_mode": {
    "name": "ipython",
    "version": 3
   },
   "file_extension": ".py",
   "mimetype": "text/x-python",
   "name": "python",
   "nbconvert_exporter": "python",
   "pygments_lexer": "ipython3",
   "version": "3.11.5"
  }
 },
 "nbformat": 4,
 "nbformat_minor": 2
}
