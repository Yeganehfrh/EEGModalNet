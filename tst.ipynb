{
 "cells": [
  {
   "cell_type": "code",
   "execution_count": 6,
   "metadata": {},
   "outputs": [],
   "source": [
    "import mne\n",
    "import pandas as pd\n",
    "import numpy as np"
   ]
  },
  {
   "cell_type": "code",
   "execution_count": 13,
   "metadata": {},
   "outputs": [
    {
     "name": "stdout",
     "output_type": "stream",
     "text": [
      "Extracting parameters from data/EEG/sub-032301/RSEEG/sub-010002.vhdr...\n",
      "Setting channel info structure...\n"
     ]
    }
   ],
   "source": [
    "# open raw data\n",
    "raw = mne.io.read_raw_brainvision('data/EEG/sub-032301/RSEEG/sub-010002.vhdr')"
   ]
  },
  {
   "cell_type": "code",
   "execution_count": null,
   "metadata": {},
   "outputs": [],
   "source": [
    "desc = raw.annotations.description.copy()\n",
    "annot_name_changer = {'Stimulus/S  1': 'Switch',\n",
    "                      'Stimulus/S200': 'Eyes Open',\n",
    "                      'Stimulus/S210': 'Eyes Closed'}\n",
    "\n",
    "# change the annotation names to sth meaningful\n",
    "for idx, val in enumerate(desc):\n",
    "    if val in annot_name_changer.keys():\n",
    "        desc[idx] = annot_name_changer[val]\n",
    "        \n",
    "idxs = np.where(desc == 'Switch')[0]\n",
    "\n",
    "for i in range(len(idxs)-1):\n",
    "    unqs = np.unique(desc[idxs[i]:idxs[i+1]])\n",
    "    if 'Switch' in unqs:\n",
    "        unqs = np.delete(unqs, np.where(unqs=='Switch')[0])\n",
    "        if len(unqs) == 1:\n",
    "            print(f'all is fine, uniques={unqs}')\n",
    "    else:\n",
    "        if len(unqs) == 1:\n",
    "            print(f'all is fine, uniques={unqs}')\n",
    "        else:\n",
    "            print(f'something went wrong, uniques={unqs}')"
   ]
  }
 ],
 "metadata": {
  "kernelspec": {
   "display_name": "SugNet",
   "language": "python",
   "name": "python3"
  },
  "language_info": {
   "codemirror_mode": {
    "name": "ipython",
    "version": 3
   },
   "file_extension": ".py",
   "mimetype": "text/x-python",
   "name": "python",
   "nbconvert_exporter": "python",
   "pygments_lexer": "ipython3",
   "version": "3.11.5"
  }
 },
 "nbformat": 4,
 "nbformat_minor": 2
}
